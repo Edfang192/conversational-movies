{
  "nbformat": 4,
  "nbformat_minor": 0,
  "metadata": {
    "colab": {
      "provenance": []
    },
    "kernelspec": {
      "name": "python3",
      "display_name": "Python 3"
    },
    "language_info": {
      "name": "python"
    },
    "widgets": {
      "application/vnd.jupyter.widget-state+json": {
        "523d4076e940400fae155265679c591d": {
          "model_module": "@jupyter-widgets/controls",
          "model_name": "HBoxModel",
          "model_module_version": "1.5.0",
          "state": {
            "_dom_classes": [],
            "_model_module": "@jupyter-widgets/controls",
            "_model_module_version": "1.5.0",
            "_model_name": "HBoxModel",
            "_view_count": null,
            "_view_module": "@jupyter-widgets/controls",
            "_view_module_version": "1.5.0",
            "_view_name": "HBoxView",
            "box_style": "",
            "children": [
              "IPY_MODEL_5c0e93563abd41f796ede1fb07fd72ab",
              "IPY_MODEL_0bd1b318b933418aa09464905063f6ad",
              "IPY_MODEL_7f4b2b37b52742328907ea5c49540bc4"
            ],
            "layout": "IPY_MODEL_c6a6ba26e0e741d4bbd379993141e3c8"
          }
        },
        "5c0e93563abd41f796ede1fb07fd72ab": {
          "model_module": "@jupyter-widgets/controls",
          "model_name": "HTMLModel",
          "model_module_version": "1.5.0",
          "state": {
            "_dom_classes": [],
            "_model_module": "@jupyter-widgets/controls",
            "_model_module_version": "1.5.0",
            "_model_name": "HTMLModel",
            "_view_count": null,
            "_view_module": "@jupyter-widgets/controls",
            "_view_module_version": "1.5.0",
            "_view_name": "HTMLView",
            "description": "",
            "description_tooltip": null,
            "layout": "IPY_MODEL_dab849c2caf24dbca0f1eeb024d3d7ee",
            "placeholder": "​",
            "style": "IPY_MODEL_f5d3fb8272eb43c0905481fc02bdf275",
            "value": "Downloading data files: 100%"
          }
        },
        "0bd1b318b933418aa09464905063f6ad": {
          "model_module": "@jupyter-widgets/controls",
          "model_name": "FloatProgressModel",
          "model_module_version": "1.5.0",
          "state": {
            "_dom_classes": [],
            "_model_module": "@jupyter-widgets/controls",
            "_model_module_version": "1.5.0",
            "_model_name": "FloatProgressModel",
            "_view_count": null,
            "_view_module": "@jupyter-widgets/controls",
            "_view_module_version": "1.5.0",
            "_view_name": "ProgressView",
            "bar_style": "success",
            "description": "",
            "description_tooltip": null,
            "layout": "IPY_MODEL_6536ac8861544d038c602885c0d9b5fe",
            "max": 1,
            "min": 0,
            "orientation": "horizontal",
            "style": "IPY_MODEL_e4b23434108e427cb440e6174d16ee90",
            "value": 1
          }
        },
        "7f4b2b37b52742328907ea5c49540bc4": {
          "model_module": "@jupyter-widgets/controls",
          "model_name": "HTMLModel",
          "model_module_version": "1.5.0",
          "state": {
            "_dom_classes": [],
            "_model_module": "@jupyter-widgets/controls",
            "_model_module_version": "1.5.0",
            "_model_name": "HTMLModel",
            "_view_count": null,
            "_view_module": "@jupyter-widgets/controls",
            "_view_module_version": "1.5.0",
            "_view_name": "HTMLView",
            "description": "",
            "description_tooltip": null,
            "layout": "IPY_MODEL_0e70a7244a904303b9077d4fef33336c",
            "placeholder": "​",
            "style": "IPY_MODEL_4d462053c15746fe924b4422f56eddf5",
            "value": " 1/1 [00:00&lt;00:00, 69.24it/s]"
          }
        },
        "c6a6ba26e0e741d4bbd379993141e3c8": {
          "model_module": "@jupyter-widgets/base",
          "model_name": "LayoutModel",
          "model_module_version": "1.2.0",
          "state": {
            "_model_module": "@jupyter-widgets/base",
            "_model_module_version": "1.2.0",
            "_model_name": "LayoutModel",
            "_view_count": null,
            "_view_module": "@jupyter-widgets/base",
            "_view_module_version": "1.2.0",
            "_view_name": "LayoutView",
            "align_content": null,
            "align_items": null,
            "align_self": null,
            "border": null,
            "bottom": null,
            "display": null,
            "flex": null,
            "flex_flow": null,
            "grid_area": null,
            "grid_auto_columns": null,
            "grid_auto_flow": null,
            "grid_auto_rows": null,
            "grid_column": null,
            "grid_gap": null,
            "grid_row": null,
            "grid_template_areas": null,
            "grid_template_columns": null,
            "grid_template_rows": null,
            "height": null,
            "justify_content": null,
            "justify_items": null,
            "left": null,
            "margin": null,
            "max_height": null,
            "max_width": null,
            "min_height": null,
            "min_width": null,
            "object_fit": null,
            "object_position": null,
            "order": null,
            "overflow": null,
            "overflow_x": null,
            "overflow_y": null,
            "padding": null,
            "right": null,
            "top": null,
            "visibility": null,
            "width": null
          }
        },
        "dab849c2caf24dbca0f1eeb024d3d7ee": {
          "model_module": "@jupyter-widgets/base",
          "model_name": "LayoutModel",
          "model_module_version": "1.2.0",
          "state": {
            "_model_module": "@jupyter-widgets/base",
            "_model_module_version": "1.2.0",
            "_model_name": "LayoutModel",
            "_view_count": null,
            "_view_module": "@jupyter-widgets/base",
            "_view_module_version": "1.2.0",
            "_view_name": "LayoutView",
            "align_content": null,
            "align_items": null,
            "align_self": null,
            "border": null,
            "bottom": null,
            "display": null,
            "flex": null,
            "flex_flow": null,
            "grid_area": null,
            "grid_auto_columns": null,
            "grid_auto_flow": null,
            "grid_auto_rows": null,
            "grid_column": null,
            "grid_gap": null,
            "grid_row": null,
            "grid_template_areas": null,
            "grid_template_columns": null,
            "grid_template_rows": null,
            "height": null,
            "justify_content": null,
            "justify_items": null,
            "left": null,
            "margin": null,
            "max_height": null,
            "max_width": null,
            "min_height": null,
            "min_width": null,
            "object_fit": null,
            "object_position": null,
            "order": null,
            "overflow": null,
            "overflow_x": null,
            "overflow_y": null,
            "padding": null,
            "right": null,
            "top": null,
            "visibility": null,
            "width": null
          }
        },
        "f5d3fb8272eb43c0905481fc02bdf275": {
          "model_module": "@jupyter-widgets/controls",
          "model_name": "DescriptionStyleModel",
          "model_module_version": "1.5.0",
          "state": {
            "_model_module": "@jupyter-widgets/controls",
            "_model_module_version": "1.5.0",
            "_model_name": "DescriptionStyleModel",
            "_view_count": null,
            "_view_module": "@jupyter-widgets/base",
            "_view_module_version": "1.2.0",
            "_view_name": "StyleView",
            "description_width": ""
          }
        },
        "6536ac8861544d038c602885c0d9b5fe": {
          "model_module": "@jupyter-widgets/base",
          "model_name": "LayoutModel",
          "model_module_version": "1.2.0",
          "state": {
            "_model_module": "@jupyter-widgets/base",
            "_model_module_version": "1.2.0",
            "_model_name": "LayoutModel",
            "_view_count": null,
            "_view_module": "@jupyter-widgets/base",
            "_view_module_version": "1.2.0",
            "_view_name": "LayoutView",
            "align_content": null,
            "align_items": null,
            "align_self": null,
            "border": null,
            "bottom": null,
            "display": null,
            "flex": null,
            "flex_flow": null,
            "grid_area": null,
            "grid_auto_columns": null,
            "grid_auto_flow": null,
            "grid_auto_rows": null,
            "grid_column": null,
            "grid_gap": null,
            "grid_row": null,
            "grid_template_areas": null,
            "grid_template_columns": null,
            "grid_template_rows": null,
            "height": null,
            "justify_content": null,
            "justify_items": null,
            "left": null,
            "margin": null,
            "max_height": null,
            "max_width": null,
            "min_height": null,
            "min_width": null,
            "object_fit": null,
            "object_position": null,
            "order": null,
            "overflow": null,
            "overflow_x": null,
            "overflow_y": null,
            "padding": null,
            "right": null,
            "top": null,
            "visibility": null,
            "width": null
          }
        },
        "e4b23434108e427cb440e6174d16ee90": {
          "model_module": "@jupyter-widgets/controls",
          "model_name": "ProgressStyleModel",
          "model_module_version": "1.5.0",
          "state": {
            "_model_module": "@jupyter-widgets/controls",
            "_model_module_version": "1.5.0",
            "_model_name": "ProgressStyleModel",
            "_view_count": null,
            "_view_module": "@jupyter-widgets/base",
            "_view_module_version": "1.2.0",
            "_view_name": "StyleView",
            "bar_color": null,
            "description_width": ""
          }
        },
        "0e70a7244a904303b9077d4fef33336c": {
          "model_module": "@jupyter-widgets/base",
          "model_name": "LayoutModel",
          "model_module_version": "1.2.0",
          "state": {
            "_model_module": "@jupyter-widgets/base",
            "_model_module_version": "1.2.0",
            "_model_name": "LayoutModel",
            "_view_count": null,
            "_view_module": "@jupyter-widgets/base",
            "_view_module_version": "1.2.0",
            "_view_name": "LayoutView",
            "align_content": null,
            "align_items": null,
            "align_self": null,
            "border": null,
            "bottom": null,
            "display": null,
            "flex": null,
            "flex_flow": null,
            "grid_area": null,
            "grid_auto_columns": null,
            "grid_auto_flow": null,
            "grid_auto_rows": null,
            "grid_column": null,
            "grid_gap": null,
            "grid_row": null,
            "grid_template_areas": null,
            "grid_template_columns": null,
            "grid_template_rows": null,
            "height": null,
            "justify_content": null,
            "justify_items": null,
            "left": null,
            "margin": null,
            "max_height": null,
            "max_width": null,
            "min_height": null,
            "min_width": null,
            "object_fit": null,
            "object_position": null,
            "order": null,
            "overflow": null,
            "overflow_x": null,
            "overflow_y": null,
            "padding": null,
            "right": null,
            "top": null,
            "visibility": null,
            "width": null
          }
        },
        "4d462053c15746fe924b4422f56eddf5": {
          "model_module": "@jupyter-widgets/controls",
          "model_name": "DescriptionStyleModel",
          "model_module_version": "1.5.0",
          "state": {
            "_model_module": "@jupyter-widgets/controls",
            "_model_module_version": "1.5.0",
            "_model_name": "DescriptionStyleModel",
            "_view_count": null,
            "_view_module": "@jupyter-widgets/base",
            "_view_module_version": "1.2.0",
            "_view_name": "StyleView",
            "description_width": ""
          }
        },
        "1af4bad6a30f4f4a903fafa9c645edad": {
          "model_module": "@jupyter-widgets/controls",
          "model_name": "HBoxModel",
          "model_module_version": "1.5.0",
          "state": {
            "_dom_classes": [],
            "_model_module": "@jupyter-widgets/controls",
            "_model_module_version": "1.5.0",
            "_model_name": "HBoxModel",
            "_view_count": null,
            "_view_module": "@jupyter-widgets/controls",
            "_view_module_version": "1.5.0",
            "_view_name": "HBoxView",
            "box_style": "",
            "children": [
              "IPY_MODEL_06e0fd910f3a45bf90db24d0e7dda639",
              "IPY_MODEL_ce856f222cd046639c20aee3c651ec2f",
              "IPY_MODEL_49eae8dfd52347d0b425139a3cf87549"
            ],
            "layout": "IPY_MODEL_e484a514fbf94c9eb9869667771345e7"
          }
        },
        "06e0fd910f3a45bf90db24d0e7dda639": {
          "model_module": "@jupyter-widgets/controls",
          "model_name": "HTMLModel",
          "model_module_version": "1.5.0",
          "state": {
            "_dom_classes": [],
            "_model_module": "@jupyter-widgets/controls",
            "_model_module_version": "1.5.0",
            "_model_name": "HTMLModel",
            "_view_count": null,
            "_view_module": "@jupyter-widgets/controls",
            "_view_module_version": "1.5.0",
            "_view_name": "HTMLView",
            "description": "",
            "description_tooltip": null,
            "layout": "IPY_MODEL_903936e3f8dc44458f35181b96f7f342",
            "placeholder": "​",
            "style": "IPY_MODEL_2539c0313b024d5283e28122ef4976d2",
            "value": "Extracting data files: 100%"
          }
        },
        "ce856f222cd046639c20aee3c651ec2f": {
          "model_module": "@jupyter-widgets/controls",
          "model_name": "FloatProgressModel",
          "model_module_version": "1.5.0",
          "state": {
            "_dom_classes": [],
            "_model_module": "@jupyter-widgets/controls",
            "_model_module_version": "1.5.0",
            "_model_name": "FloatProgressModel",
            "_view_count": null,
            "_view_module": "@jupyter-widgets/controls",
            "_view_module_version": "1.5.0",
            "_view_name": "ProgressView",
            "bar_style": "success",
            "description": "",
            "description_tooltip": null,
            "layout": "IPY_MODEL_8dcc707301154f7887eb4f47b4d81e5f",
            "max": 1,
            "min": 0,
            "orientation": "horizontal",
            "style": "IPY_MODEL_991226ab4af44831aff2d426ac711f9d",
            "value": 1
          }
        },
        "49eae8dfd52347d0b425139a3cf87549": {
          "model_module": "@jupyter-widgets/controls",
          "model_name": "HTMLModel",
          "model_module_version": "1.5.0",
          "state": {
            "_dom_classes": [],
            "_model_module": "@jupyter-widgets/controls",
            "_model_module_version": "1.5.0",
            "_model_name": "HTMLModel",
            "_view_count": null,
            "_view_module": "@jupyter-widgets/controls",
            "_view_module_version": "1.5.0",
            "_view_name": "HTMLView",
            "description": "",
            "description_tooltip": null,
            "layout": "IPY_MODEL_16bb8dab439541eeae498dcae6c8e8b5",
            "placeholder": "​",
            "style": "IPY_MODEL_152ee7ffbd114e59b8166bf71e79cae7",
            "value": " 1/1 [00:00&lt;00:00, 46.38it/s]"
          }
        },
        "e484a514fbf94c9eb9869667771345e7": {
          "model_module": "@jupyter-widgets/base",
          "model_name": "LayoutModel",
          "model_module_version": "1.2.0",
          "state": {
            "_model_module": "@jupyter-widgets/base",
            "_model_module_version": "1.2.0",
            "_model_name": "LayoutModel",
            "_view_count": null,
            "_view_module": "@jupyter-widgets/base",
            "_view_module_version": "1.2.0",
            "_view_name": "LayoutView",
            "align_content": null,
            "align_items": null,
            "align_self": null,
            "border": null,
            "bottom": null,
            "display": null,
            "flex": null,
            "flex_flow": null,
            "grid_area": null,
            "grid_auto_columns": null,
            "grid_auto_flow": null,
            "grid_auto_rows": null,
            "grid_column": null,
            "grid_gap": null,
            "grid_row": null,
            "grid_template_areas": null,
            "grid_template_columns": null,
            "grid_template_rows": null,
            "height": null,
            "justify_content": null,
            "justify_items": null,
            "left": null,
            "margin": null,
            "max_height": null,
            "max_width": null,
            "min_height": null,
            "min_width": null,
            "object_fit": null,
            "object_position": null,
            "order": null,
            "overflow": null,
            "overflow_x": null,
            "overflow_y": null,
            "padding": null,
            "right": null,
            "top": null,
            "visibility": null,
            "width": null
          }
        },
        "903936e3f8dc44458f35181b96f7f342": {
          "model_module": "@jupyter-widgets/base",
          "model_name": "LayoutModel",
          "model_module_version": "1.2.0",
          "state": {
            "_model_module": "@jupyter-widgets/base",
            "_model_module_version": "1.2.0",
            "_model_name": "LayoutModel",
            "_view_count": null,
            "_view_module": "@jupyter-widgets/base",
            "_view_module_version": "1.2.0",
            "_view_name": "LayoutView",
            "align_content": null,
            "align_items": null,
            "align_self": null,
            "border": null,
            "bottom": null,
            "display": null,
            "flex": null,
            "flex_flow": null,
            "grid_area": null,
            "grid_auto_columns": null,
            "grid_auto_flow": null,
            "grid_auto_rows": null,
            "grid_column": null,
            "grid_gap": null,
            "grid_row": null,
            "grid_template_areas": null,
            "grid_template_columns": null,
            "grid_template_rows": null,
            "height": null,
            "justify_content": null,
            "justify_items": null,
            "left": null,
            "margin": null,
            "max_height": null,
            "max_width": null,
            "min_height": null,
            "min_width": null,
            "object_fit": null,
            "object_position": null,
            "order": null,
            "overflow": null,
            "overflow_x": null,
            "overflow_y": null,
            "padding": null,
            "right": null,
            "top": null,
            "visibility": null,
            "width": null
          }
        },
        "2539c0313b024d5283e28122ef4976d2": {
          "model_module": "@jupyter-widgets/controls",
          "model_name": "DescriptionStyleModel",
          "model_module_version": "1.5.0",
          "state": {
            "_model_module": "@jupyter-widgets/controls",
            "_model_module_version": "1.5.0",
            "_model_name": "DescriptionStyleModel",
            "_view_count": null,
            "_view_module": "@jupyter-widgets/base",
            "_view_module_version": "1.2.0",
            "_view_name": "StyleView",
            "description_width": ""
          }
        },
        "8dcc707301154f7887eb4f47b4d81e5f": {
          "model_module": "@jupyter-widgets/base",
          "model_name": "LayoutModel",
          "model_module_version": "1.2.0",
          "state": {
            "_model_module": "@jupyter-widgets/base",
            "_model_module_version": "1.2.0",
            "_model_name": "LayoutModel",
            "_view_count": null,
            "_view_module": "@jupyter-widgets/base",
            "_view_module_version": "1.2.0",
            "_view_name": "LayoutView",
            "align_content": null,
            "align_items": null,
            "align_self": null,
            "border": null,
            "bottom": null,
            "display": null,
            "flex": null,
            "flex_flow": null,
            "grid_area": null,
            "grid_auto_columns": null,
            "grid_auto_flow": null,
            "grid_auto_rows": null,
            "grid_column": null,
            "grid_gap": null,
            "grid_row": null,
            "grid_template_areas": null,
            "grid_template_columns": null,
            "grid_template_rows": null,
            "height": null,
            "justify_content": null,
            "justify_items": null,
            "left": null,
            "margin": null,
            "max_height": null,
            "max_width": null,
            "min_height": null,
            "min_width": null,
            "object_fit": null,
            "object_position": null,
            "order": null,
            "overflow": null,
            "overflow_x": null,
            "overflow_y": null,
            "padding": null,
            "right": null,
            "top": null,
            "visibility": null,
            "width": null
          }
        },
        "991226ab4af44831aff2d426ac711f9d": {
          "model_module": "@jupyter-widgets/controls",
          "model_name": "ProgressStyleModel",
          "model_module_version": "1.5.0",
          "state": {
            "_model_module": "@jupyter-widgets/controls",
            "_model_module_version": "1.5.0",
            "_model_name": "ProgressStyleModel",
            "_view_count": null,
            "_view_module": "@jupyter-widgets/base",
            "_view_module_version": "1.2.0",
            "_view_name": "StyleView",
            "bar_color": null,
            "description_width": ""
          }
        },
        "16bb8dab439541eeae498dcae6c8e8b5": {
          "model_module": "@jupyter-widgets/base",
          "model_name": "LayoutModel",
          "model_module_version": "1.2.0",
          "state": {
            "_model_module": "@jupyter-widgets/base",
            "_model_module_version": "1.2.0",
            "_model_name": "LayoutModel",
            "_view_count": null,
            "_view_module": "@jupyter-widgets/base",
            "_view_module_version": "1.2.0",
            "_view_name": "LayoutView",
            "align_content": null,
            "align_items": null,
            "align_self": null,
            "border": null,
            "bottom": null,
            "display": null,
            "flex": null,
            "flex_flow": null,
            "grid_area": null,
            "grid_auto_columns": null,
            "grid_auto_flow": null,
            "grid_auto_rows": null,
            "grid_column": null,
            "grid_gap": null,
            "grid_row": null,
            "grid_template_areas": null,
            "grid_template_columns": null,
            "grid_template_rows": null,
            "height": null,
            "justify_content": null,
            "justify_items": null,
            "left": null,
            "margin": null,
            "max_height": null,
            "max_width": null,
            "min_height": null,
            "min_width": null,
            "object_fit": null,
            "object_position": null,
            "order": null,
            "overflow": null,
            "overflow_x": null,
            "overflow_y": null,
            "padding": null,
            "right": null,
            "top": null,
            "visibility": null,
            "width": null
          }
        },
        "152ee7ffbd114e59b8166bf71e79cae7": {
          "model_module": "@jupyter-widgets/controls",
          "model_name": "DescriptionStyleModel",
          "model_module_version": "1.5.0",
          "state": {
            "_model_module": "@jupyter-widgets/controls",
            "_model_module_version": "1.5.0",
            "_model_name": "DescriptionStyleModel",
            "_view_count": null,
            "_view_module": "@jupyter-widgets/base",
            "_view_module_version": "1.2.0",
            "_view_name": "StyleView",
            "description_width": ""
          }
        },
        "4d35e387fc614b428207c9c87934780f": {
          "model_module": "@jupyter-widgets/controls",
          "model_name": "HBoxModel",
          "model_module_version": "1.5.0",
          "state": {
            "_dom_classes": [],
            "_model_module": "@jupyter-widgets/controls",
            "_model_module_version": "1.5.0",
            "_model_name": "HBoxModel",
            "_view_count": null,
            "_view_module": "@jupyter-widgets/controls",
            "_view_module_version": "1.5.0",
            "_view_name": "HBoxView",
            "box_style": "",
            "children": [
              "IPY_MODEL_63febde6e70941fe86516fd27bd15330",
              "IPY_MODEL_49d32b1d2c7348a7aa096baa5d068c81",
              "IPY_MODEL_10c7226a09a6405abdc2a6680015f1af"
            ],
            "layout": "IPY_MODEL_f5dec4f7fe744023945d316adcc8a172"
          }
        },
        "63febde6e70941fe86516fd27bd15330": {
          "model_module": "@jupyter-widgets/controls",
          "model_name": "HTMLModel",
          "model_module_version": "1.5.0",
          "state": {
            "_dom_classes": [],
            "_model_module": "@jupyter-widgets/controls",
            "_model_module_version": "1.5.0",
            "_model_name": "HTMLModel",
            "_view_count": null,
            "_view_module": "@jupyter-widgets/controls",
            "_view_module_version": "1.5.0",
            "_view_name": "HTMLView",
            "description": "",
            "description_tooltip": null,
            "layout": "IPY_MODEL_fdf04876363b42f5b8aa0bf3f5fd3bde",
            "placeholder": "​",
            "style": "IPY_MODEL_a6ea1ff1aa594fcbaf7961b6d07fddb2",
            "value": "Generating train split: 100%"
          }
        },
        "49d32b1d2c7348a7aa096baa5d068c81": {
          "model_module": "@jupyter-widgets/controls",
          "model_name": "FloatProgressModel",
          "model_module_version": "1.5.0",
          "state": {
            "_dom_classes": [],
            "_model_module": "@jupyter-widgets/controls",
            "_model_module_version": "1.5.0",
            "_model_name": "FloatProgressModel",
            "_view_count": null,
            "_view_module": "@jupyter-widgets/controls",
            "_view_module_version": "1.5.0",
            "_view_name": "ProgressView",
            "bar_style": "",
            "description": "",
            "description_tooltip": null,
            "layout": "IPY_MODEL_3d0b508d8c514f74b0ef738b5965f287",
            "max": 502,
            "min": 0,
            "orientation": "horizontal",
            "style": "IPY_MODEL_9340f25c743248c39498558631e5feb1",
            "value": 502
          }
        },
        "10c7226a09a6405abdc2a6680015f1af": {
          "model_module": "@jupyter-widgets/controls",
          "model_name": "HTMLModel",
          "model_module_version": "1.5.0",
          "state": {
            "_dom_classes": [],
            "_model_module": "@jupyter-widgets/controls",
            "_model_module_version": "1.5.0",
            "_model_name": "HTMLModel",
            "_view_count": null,
            "_view_module": "@jupyter-widgets/controls",
            "_view_module_version": "1.5.0",
            "_view_name": "HTMLView",
            "description": "",
            "description_tooltip": null,
            "layout": "IPY_MODEL_0f80265d9e05404c9dc1435ee4981a81",
            "placeholder": "​",
            "style": "IPY_MODEL_6a12564a797a47b7ac91fb9d6fa024ea",
            "value": " 502/502 [00:13&lt;00:00, 545.55 examples/s]"
          }
        },
        "f5dec4f7fe744023945d316adcc8a172": {
          "model_module": "@jupyter-widgets/base",
          "model_name": "LayoutModel",
          "model_module_version": "1.2.0",
          "state": {
            "_model_module": "@jupyter-widgets/base",
            "_model_module_version": "1.2.0",
            "_model_name": "LayoutModel",
            "_view_count": null,
            "_view_module": "@jupyter-widgets/base",
            "_view_module_version": "1.2.0",
            "_view_name": "LayoutView",
            "align_content": null,
            "align_items": null,
            "align_self": null,
            "border": null,
            "bottom": null,
            "display": null,
            "flex": null,
            "flex_flow": null,
            "grid_area": null,
            "grid_auto_columns": null,
            "grid_auto_flow": null,
            "grid_auto_rows": null,
            "grid_column": null,
            "grid_gap": null,
            "grid_row": null,
            "grid_template_areas": null,
            "grid_template_columns": null,
            "grid_template_rows": null,
            "height": null,
            "justify_content": null,
            "justify_items": null,
            "left": null,
            "margin": null,
            "max_height": null,
            "max_width": null,
            "min_height": null,
            "min_width": null,
            "object_fit": null,
            "object_position": null,
            "order": null,
            "overflow": null,
            "overflow_x": null,
            "overflow_y": null,
            "padding": null,
            "right": null,
            "top": null,
            "visibility": "hidden",
            "width": null
          }
        },
        "fdf04876363b42f5b8aa0bf3f5fd3bde": {
          "model_module": "@jupyter-widgets/base",
          "model_name": "LayoutModel",
          "model_module_version": "1.2.0",
          "state": {
            "_model_module": "@jupyter-widgets/base",
            "_model_module_version": "1.2.0",
            "_model_name": "LayoutModel",
            "_view_count": null,
            "_view_module": "@jupyter-widgets/base",
            "_view_module_version": "1.2.0",
            "_view_name": "LayoutView",
            "align_content": null,
            "align_items": null,
            "align_self": null,
            "border": null,
            "bottom": null,
            "display": null,
            "flex": null,
            "flex_flow": null,
            "grid_area": null,
            "grid_auto_columns": null,
            "grid_auto_flow": null,
            "grid_auto_rows": null,
            "grid_column": null,
            "grid_gap": null,
            "grid_row": null,
            "grid_template_areas": null,
            "grid_template_columns": null,
            "grid_template_rows": null,
            "height": null,
            "justify_content": null,
            "justify_items": null,
            "left": null,
            "margin": null,
            "max_height": null,
            "max_width": null,
            "min_height": null,
            "min_width": null,
            "object_fit": null,
            "object_position": null,
            "order": null,
            "overflow": null,
            "overflow_x": null,
            "overflow_y": null,
            "padding": null,
            "right": null,
            "top": null,
            "visibility": null,
            "width": null
          }
        },
        "a6ea1ff1aa594fcbaf7961b6d07fddb2": {
          "model_module": "@jupyter-widgets/controls",
          "model_name": "DescriptionStyleModel",
          "model_module_version": "1.5.0",
          "state": {
            "_model_module": "@jupyter-widgets/controls",
            "_model_module_version": "1.5.0",
            "_model_name": "DescriptionStyleModel",
            "_view_count": null,
            "_view_module": "@jupyter-widgets/base",
            "_view_module_version": "1.2.0",
            "_view_name": "StyleView",
            "description_width": ""
          }
        },
        "3d0b508d8c514f74b0ef738b5965f287": {
          "model_module": "@jupyter-widgets/base",
          "model_name": "LayoutModel",
          "model_module_version": "1.2.0",
          "state": {
            "_model_module": "@jupyter-widgets/base",
            "_model_module_version": "1.2.0",
            "_model_name": "LayoutModel",
            "_view_count": null,
            "_view_module": "@jupyter-widgets/base",
            "_view_module_version": "1.2.0",
            "_view_name": "LayoutView",
            "align_content": null,
            "align_items": null,
            "align_self": null,
            "border": null,
            "bottom": null,
            "display": null,
            "flex": null,
            "flex_flow": null,
            "grid_area": null,
            "grid_auto_columns": null,
            "grid_auto_flow": null,
            "grid_auto_rows": null,
            "grid_column": null,
            "grid_gap": null,
            "grid_row": null,
            "grid_template_areas": null,
            "grid_template_columns": null,
            "grid_template_rows": null,
            "height": null,
            "justify_content": null,
            "justify_items": null,
            "left": null,
            "margin": null,
            "max_height": null,
            "max_width": null,
            "min_height": null,
            "min_width": null,
            "object_fit": null,
            "object_position": null,
            "order": null,
            "overflow": null,
            "overflow_x": null,
            "overflow_y": null,
            "padding": null,
            "right": null,
            "top": null,
            "visibility": null,
            "width": null
          }
        },
        "9340f25c743248c39498558631e5feb1": {
          "model_module": "@jupyter-widgets/controls",
          "model_name": "ProgressStyleModel",
          "model_module_version": "1.5.0",
          "state": {
            "_model_module": "@jupyter-widgets/controls",
            "_model_module_version": "1.5.0",
            "_model_name": "ProgressStyleModel",
            "_view_count": null,
            "_view_module": "@jupyter-widgets/base",
            "_view_module_version": "1.2.0",
            "_view_name": "StyleView",
            "bar_color": null,
            "description_width": ""
          }
        },
        "0f80265d9e05404c9dc1435ee4981a81": {
          "model_module": "@jupyter-widgets/base",
          "model_name": "LayoutModel",
          "model_module_version": "1.2.0",
          "state": {
            "_model_module": "@jupyter-widgets/base",
            "_model_module_version": "1.2.0",
            "_model_name": "LayoutModel",
            "_view_count": null,
            "_view_module": "@jupyter-widgets/base",
            "_view_module_version": "1.2.0",
            "_view_name": "LayoutView",
            "align_content": null,
            "align_items": null,
            "align_self": null,
            "border": null,
            "bottom": null,
            "display": null,
            "flex": null,
            "flex_flow": null,
            "grid_area": null,
            "grid_auto_columns": null,
            "grid_auto_flow": null,
            "grid_auto_rows": null,
            "grid_column": null,
            "grid_gap": null,
            "grid_row": null,
            "grid_template_areas": null,
            "grid_template_columns": null,
            "grid_template_rows": null,
            "height": null,
            "justify_content": null,
            "justify_items": null,
            "left": null,
            "margin": null,
            "max_height": null,
            "max_width": null,
            "min_height": null,
            "min_width": null,
            "object_fit": null,
            "object_position": null,
            "order": null,
            "overflow": null,
            "overflow_x": null,
            "overflow_y": null,
            "padding": null,
            "right": null,
            "top": null,
            "visibility": null,
            "width": null
          }
        },
        "6a12564a797a47b7ac91fb9d6fa024ea": {
          "model_module": "@jupyter-widgets/controls",
          "model_name": "DescriptionStyleModel",
          "model_module_version": "1.5.0",
          "state": {
            "_model_module": "@jupyter-widgets/controls",
            "_model_module_version": "1.5.0",
            "_model_name": "DescriptionStyleModel",
            "_view_count": null,
            "_view_module": "@jupyter-widgets/base",
            "_view_module_version": "1.2.0",
            "_view_name": "StyleView",
            "description_width": ""
          }
        },
        "dba89c8e2b124d03b8fba8180c0a53b7": {
          "model_module": "@jupyter-widgets/controls",
          "model_name": "HBoxModel",
          "model_module_version": "1.5.0",
          "state": {
            "_dom_classes": [],
            "_model_module": "@jupyter-widgets/controls",
            "_model_module_version": "1.5.0",
            "_model_name": "HBoxModel",
            "_view_count": null,
            "_view_module": "@jupyter-widgets/controls",
            "_view_module_version": "1.5.0",
            "_view_name": "HBoxView",
            "box_style": "",
            "children": [
              "IPY_MODEL_b49ec588f4f941be96b253e63b3a3bde",
              "IPY_MODEL_00c43d78a2964be385f59289660601dd",
              "IPY_MODEL_ade7c6cdc3124be1b2cc5fb4c58a61d5"
            ],
            "layout": "IPY_MODEL_466c2f8bf4f546719d390ce0bd3ecca6"
          }
        },
        "b49ec588f4f941be96b253e63b3a3bde": {
          "model_module": "@jupyter-widgets/controls",
          "model_name": "HTMLModel",
          "model_module_version": "1.5.0",
          "state": {
            "_dom_classes": [],
            "_model_module": "@jupyter-widgets/controls",
            "_model_module_version": "1.5.0",
            "_model_name": "HTMLModel",
            "_view_count": null,
            "_view_module": "@jupyter-widgets/controls",
            "_view_module_version": "1.5.0",
            "_view_name": "HTMLView",
            "description": "",
            "description_tooltip": null,
            "layout": "IPY_MODEL_f9f1e2c5babf43aba87ed134f67a0cd7",
            "placeholder": "​",
            "style": "IPY_MODEL_09c9b90deb354779889a5a8f76f6934b",
            "value": "100%"
          }
        },
        "00c43d78a2964be385f59289660601dd": {
          "model_module": "@jupyter-widgets/controls",
          "model_name": "FloatProgressModel",
          "model_module_version": "1.5.0",
          "state": {
            "_dom_classes": [],
            "_model_module": "@jupyter-widgets/controls",
            "_model_module_version": "1.5.0",
            "_model_name": "FloatProgressModel",
            "_view_count": null,
            "_view_module": "@jupyter-widgets/controls",
            "_view_module_version": "1.5.0",
            "_view_name": "ProgressView",
            "bar_style": "success",
            "description": "",
            "description_tooltip": null,
            "layout": "IPY_MODEL_beae2e095c5e496892d543845a09400a",
            "max": 1,
            "min": 0,
            "orientation": "horizontal",
            "style": "IPY_MODEL_8b738639d6f447209a9b5daa43d09a4c",
            "value": 1
          }
        },
        "ade7c6cdc3124be1b2cc5fb4c58a61d5": {
          "model_module": "@jupyter-widgets/controls",
          "model_name": "HTMLModel",
          "model_module_version": "1.5.0",
          "state": {
            "_dom_classes": [],
            "_model_module": "@jupyter-widgets/controls",
            "_model_module_version": "1.5.0",
            "_model_name": "HTMLModel",
            "_view_count": null,
            "_view_module": "@jupyter-widgets/controls",
            "_view_module_version": "1.5.0",
            "_view_name": "HTMLView",
            "description": "",
            "description_tooltip": null,
            "layout": "IPY_MODEL_45e6aa0218914c5a98dadb0ce36054cf",
            "placeholder": "​",
            "style": "IPY_MODEL_85fa440416a84d90a2b971fc2348af80",
            "value": " 1/1 [00:00&lt;00:00, 32.81it/s]"
          }
        },
        "466c2f8bf4f546719d390ce0bd3ecca6": {
          "model_module": "@jupyter-widgets/base",
          "model_name": "LayoutModel",
          "model_module_version": "1.2.0",
          "state": {
            "_model_module": "@jupyter-widgets/base",
            "_model_module_version": "1.2.0",
            "_model_name": "LayoutModel",
            "_view_count": null,
            "_view_module": "@jupyter-widgets/base",
            "_view_module_version": "1.2.0",
            "_view_name": "LayoutView",
            "align_content": null,
            "align_items": null,
            "align_self": null,
            "border": null,
            "bottom": null,
            "display": null,
            "flex": null,
            "flex_flow": null,
            "grid_area": null,
            "grid_auto_columns": null,
            "grid_auto_flow": null,
            "grid_auto_rows": null,
            "grid_column": null,
            "grid_gap": null,
            "grid_row": null,
            "grid_template_areas": null,
            "grid_template_columns": null,
            "grid_template_rows": null,
            "height": null,
            "justify_content": null,
            "justify_items": null,
            "left": null,
            "margin": null,
            "max_height": null,
            "max_width": null,
            "min_height": null,
            "min_width": null,
            "object_fit": null,
            "object_position": null,
            "order": null,
            "overflow": null,
            "overflow_x": null,
            "overflow_y": null,
            "padding": null,
            "right": null,
            "top": null,
            "visibility": null,
            "width": null
          }
        },
        "f9f1e2c5babf43aba87ed134f67a0cd7": {
          "model_module": "@jupyter-widgets/base",
          "model_name": "LayoutModel",
          "model_module_version": "1.2.0",
          "state": {
            "_model_module": "@jupyter-widgets/base",
            "_model_module_version": "1.2.0",
            "_model_name": "LayoutModel",
            "_view_count": null,
            "_view_module": "@jupyter-widgets/base",
            "_view_module_version": "1.2.0",
            "_view_name": "LayoutView",
            "align_content": null,
            "align_items": null,
            "align_self": null,
            "border": null,
            "bottom": null,
            "display": null,
            "flex": null,
            "flex_flow": null,
            "grid_area": null,
            "grid_auto_columns": null,
            "grid_auto_flow": null,
            "grid_auto_rows": null,
            "grid_column": null,
            "grid_gap": null,
            "grid_row": null,
            "grid_template_areas": null,
            "grid_template_columns": null,
            "grid_template_rows": null,
            "height": null,
            "justify_content": null,
            "justify_items": null,
            "left": null,
            "margin": null,
            "max_height": null,
            "max_width": null,
            "min_height": null,
            "min_width": null,
            "object_fit": null,
            "object_position": null,
            "order": null,
            "overflow": null,
            "overflow_x": null,
            "overflow_y": null,
            "padding": null,
            "right": null,
            "top": null,
            "visibility": null,
            "width": null
          }
        },
        "09c9b90deb354779889a5a8f76f6934b": {
          "model_module": "@jupyter-widgets/controls",
          "model_name": "DescriptionStyleModel",
          "model_module_version": "1.5.0",
          "state": {
            "_model_module": "@jupyter-widgets/controls",
            "_model_module_version": "1.5.0",
            "_model_name": "DescriptionStyleModel",
            "_view_count": null,
            "_view_module": "@jupyter-widgets/base",
            "_view_module_version": "1.2.0",
            "_view_name": "StyleView",
            "description_width": ""
          }
        },
        "beae2e095c5e496892d543845a09400a": {
          "model_module": "@jupyter-widgets/base",
          "model_name": "LayoutModel",
          "model_module_version": "1.2.0",
          "state": {
            "_model_module": "@jupyter-widgets/base",
            "_model_module_version": "1.2.0",
            "_model_name": "LayoutModel",
            "_view_count": null,
            "_view_module": "@jupyter-widgets/base",
            "_view_module_version": "1.2.0",
            "_view_name": "LayoutView",
            "align_content": null,
            "align_items": null,
            "align_self": null,
            "border": null,
            "bottom": null,
            "display": null,
            "flex": null,
            "flex_flow": null,
            "grid_area": null,
            "grid_auto_columns": null,
            "grid_auto_flow": null,
            "grid_auto_rows": null,
            "grid_column": null,
            "grid_gap": null,
            "grid_row": null,
            "grid_template_areas": null,
            "grid_template_columns": null,
            "grid_template_rows": null,
            "height": null,
            "justify_content": null,
            "justify_items": null,
            "left": null,
            "margin": null,
            "max_height": null,
            "max_width": null,
            "min_height": null,
            "min_width": null,
            "object_fit": null,
            "object_position": null,
            "order": null,
            "overflow": null,
            "overflow_x": null,
            "overflow_y": null,
            "padding": null,
            "right": null,
            "top": null,
            "visibility": null,
            "width": null
          }
        },
        "8b738639d6f447209a9b5daa43d09a4c": {
          "model_module": "@jupyter-widgets/controls",
          "model_name": "ProgressStyleModel",
          "model_module_version": "1.5.0",
          "state": {
            "_model_module": "@jupyter-widgets/controls",
            "_model_module_version": "1.5.0",
            "_model_name": "ProgressStyleModel",
            "_view_count": null,
            "_view_module": "@jupyter-widgets/base",
            "_view_module_version": "1.2.0",
            "_view_name": "StyleView",
            "bar_color": null,
            "description_width": ""
          }
        },
        "45e6aa0218914c5a98dadb0ce36054cf": {
          "model_module": "@jupyter-widgets/base",
          "model_name": "LayoutModel",
          "model_module_version": "1.2.0",
          "state": {
            "_model_module": "@jupyter-widgets/base",
            "_model_module_version": "1.2.0",
            "_model_name": "LayoutModel",
            "_view_count": null,
            "_view_module": "@jupyter-widgets/base",
            "_view_module_version": "1.2.0",
            "_view_name": "LayoutView",
            "align_content": null,
            "align_items": null,
            "align_self": null,
            "border": null,
            "bottom": null,
            "display": null,
            "flex": null,
            "flex_flow": null,
            "grid_area": null,
            "grid_auto_columns": null,
            "grid_auto_flow": null,
            "grid_auto_rows": null,
            "grid_column": null,
            "grid_gap": null,
            "grid_row": null,
            "grid_template_areas": null,
            "grid_template_columns": null,
            "grid_template_rows": null,
            "height": null,
            "justify_content": null,
            "justify_items": null,
            "left": null,
            "margin": null,
            "max_height": null,
            "max_width": null,
            "min_height": null,
            "min_width": null,
            "object_fit": null,
            "object_position": null,
            "order": null,
            "overflow": null,
            "overflow_x": null,
            "overflow_y": null,
            "padding": null,
            "right": null,
            "top": null,
            "visibility": null,
            "width": null
          }
        },
        "85fa440416a84d90a2b971fc2348af80": {
          "model_module": "@jupyter-widgets/controls",
          "model_name": "DescriptionStyleModel",
          "model_module_version": "1.5.0",
          "state": {
            "_model_module": "@jupyter-widgets/controls",
            "_model_module_version": "1.5.0",
            "_model_name": "DescriptionStyleModel",
            "_view_count": null,
            "_view_module": "@jupyter-widgets/base",
            "_view_module_version": "1.2.0",
            "_view_name": "StyleView",
            "description_width": ""
          }
        }
      }
    }
  },
  "cells": [
    {
      "cell_type": "code",
      "execution_count": null,
      "metadata": {
        "colab": {
          "base_uri": "https://localhost:8080/"
        },
        "id": "hGONagsWW_nc",
        "outputId": "13b6fa86-e749-45af-91ad-a2c235ad5b4f"
      },
      "outputs": [
        {
          "output_type": "stream",
          "name": "stdout",
          "text": [
            "fatal: destination path 'conversational-movies' already exists and is not an empty directory.\n"
          ]
        }
      ],
      "source": [
        "!git clone https://github.com/sergey-volokhin/conversational-movies"
      ]
    },
    {
      "cell_type": "code",
      "source": [
        "pip install Whoosh"
      ],
      "metadata": {
        "colab": {
          "base_uri": "https://localhost:8080/"
        },
        "id": "Ejj667XPXWwb",
        "outputId": "5ea9c274-8d95-4fc4-fb4f-1090f6d99a09"
      },
      "execution_count": null,
      "outputs": [
        {
          "output_type": "stream",
          "name": "stdout",
          "text": [
            "Looking in indexes: https://pypi.org/simple, https://us-python.pkg.dev/colab-wheels/public/simple/\n",
            "Collecting Whoosh\n",
            "  Downloading Whoosh-2.7.4-py2.py3-none-any.whl (468 kB)\n",
            "\u001b[2K     \u001b[90m━━━━━━━━━━━━━━━━━━━━━━━━━━━━━━━━━━━━━━\u001b[0m \u001b[32m468.8/468.8 KB\u001b[0m \u001b[31m17.9 MB/s\u001b[0m eta \u001b[36m0:00:00\u001b[0m\n",
            "\u001b[?25hInstalling collected packages: Whoosh\n",
            "Successfully installed Whoosh-2.7.4\n"
          ]
        }
      ]
    },
    {
      "cell_type": "code",
      "source": [
        "pip install sentence_transformers"
      ],
      "metadata": {
        "colab": {
          "base_uri": "https://localhost:8080/"
        },
        "id": "vWcS2fwqXXNF",
        "outputId": "5df371da-4255-4523-d875-39cad3169129"
      },
      "execution_count": null,
      "outputs": [
        {
          "output_type": "stream",
          "name": "stdout",
          "text": [
            "Looking in indexes: https://pypi.org/simple, https://us-python.pkg.dev/colab-wheels/public/simple/\n",
            "Collecting sentence_transformers\n",
            "  Downloading sentence-transformers-2.2.2.tar.gz (85 kB)\n",
            "\u001b[2K     \u001b[90m━━━━━━━━━━━━━━━━━━━━━━━━━━━━━━━━━━━━━━━━\u001b[0m \u001b[32m86.0/86.0 KB\u001b[0m \u001b[31m7.0 MB/s\u001b[0m eta \u001b[36m0:00:00\u001b[0m\n",
            "\u001b[?25h  Preparing metadata (setup.py) ... \u001b[?25l\u001b[?25hdone\n",
            "Collecting transformers<5.0.0,>=4.6.0\n",
            "  Downloading transformers-4.27.4-py3-none-any.whl (6.8 MB)\n",
            "\u001b[2K     \u001b[90m━━━━━━━━━━━━━━━━━━━━━━━━━━━━━━━━━━━━━━━━\u001b[0m \u001b[32m6.8/6.8 MB\u001b[0m \u001b[31m82.1 MB/s\u001b[0m eta \u001b[36m0:00:00\u001b[0m\n",
            "\u001b[?25hRequirement already satisfied: tqdm in /usr/local/lib/python3.9/dist-packages (from sentence_transformers) (4.65.0)\n",
            "Requirement already satisfied: torch>=1.6.0 in /usr/local/lib/python3.9/dist-packages (from sentence_transformers) (2.0.0+cu118)\n",
            "Requirement already satisfied: torchvision in /usr/local/lib/python3.9/dist-packages (from sentence_transformers) (0.15.1+cu118)\n",
            "Requirement already satisfied: numpy in /usr/local/lib/python3.9/dist-packages (from sentence_transformers) (1.22.4)\n",
            "Requirement already satisfied: scikit-learn in /usr/local/lib/python3.9/dist-packages (from sentence_transformers) (1.2.2)\n",
            "Requirement already satisfied: scipy in /usr/local/lib/python3.9/dist-packages (from sentence_transformers) (1.10.1)\n",
            "Requirement already satisfied: nltk in /usr/local/lib/python3.9/dist-packages (from sentence_transformers) (3.8.1)\n",
            "Collecting sentencepiece\n",
            "  Downloading sentencepiece-0.1.97-cp39-cp39-manylinux_2_17_x86_64.manylinux2014_x86_64.whl (1.3 MB)\n",
            "\u001b[2K     \u001b[90m━━━━━━━━━━━━━━━━━━━━━━━━━━━━━━━━━━━━━━━━\u001b[0m \u001b[32m1.3/1.3 MB\u001b[0m \u001b[31m72.6 MB/s\u001b[0m eta \u001b[36m0:00:00\u001b[0m\n",
            "\u001b[?25hCollecting huggingface-hub>=0.4.0\n",
            "  Downloading huggingface_hub-0.13.3-py3-none-any.whl (199 kB)\n",
            "\u001b[2K     \u001b[90m━━━━━━━━━━━━━━━━━━━━━━━━━━━━━━━━━━━━━━\u001b[0m \u001b[32m199.8/199.8 KB\u001b[0m \u001b[31m25.4 MB/s\u001b[0m eta \u001b[36m0:00:00\u001b[0m\n",
            "\u001b[?25hRequirement already satisfied: typing-extensions>=3.7.4.3 in /usr/local/lib/python3.9/dist-packages (from huggingface-hub>=0.4.0->sentence_transformers) (4.5.0)\n",
            "Requirement already satisfied: pyyaml>=5.1 in /usr/local/lib/python3.9/dist-packages (from huggingface-hub>=0.4.0->sentence_transformers) (6.0)\n",
            "Requirement already satisfied: filelock in /usr/local/lib/python3.9/dist-packages (from huggingface-hub>=0.4.0->sentence_transformers) (3.10.7)\n",
            "Requirement already satisfied: packaging>=20.9 in /usr/local/lib/python3.9/dist-packages (from huggingface-hub>=0.4.0->sentence_transformers) (23.0)\n",
            "Requirement already satisfied: requests in /usr/local/lib/python3.9/dist-packages (from huggingface-hub>=0.4.0->sentence_transformers) (2.27.1)\n",
            "Requirement already satisfied: triton==2.0.0 in /usr/local/lib/python3.9/dist-packages (from torch>=1.6.0->sentence_transformers) (2.0.0)\n",
            "Requirement already satisfied: jinja2 in /usr/local/lib/python3.9/dist-packages (from torch>=1.6.0->sentence_transformers) (3.1.2)\n",
            "Requirement already satisfied: sympy in /usr/local/lib/python3.9/dist-packages (from torch>=1.6.0->sentence_transformers) (1.11.1)\n",
            "Requirement already satisfied: networkx in /usr/local/lib/python3.9/dist-packages (from torch>=1.6.0->sentence_transformers) (3.0)\n",
            "Requirement already satisfied: lit in /usr/local/lib/python3.9/dist-packages (from triton==2.0.0->torch>=1.6.0->sentence_transformers) (16.0.0)\n",
            "Requirement already satisfied: cmake in /usr/local/lib/python3.9/dist-packages (from triton==2.0.0->torch>=1.6.0->sentence_transformers) (3.25.2)\n",
            "Requirement already satisfied: regex!=2019.12.17 in /usr/local/lib/python3.9/dist-packages (from transformers<5.0.0,>=4.6.0->sentence_transformers) (2022.10.31)\n",
            "Collecting tokenizers!=0.11.3,<0.14,>=0.11.1\n",
            "  Downloading tokenizers-0.13.2-cp39-cp39-manylinux_2_17_x86_64.manylinux2014_x86_64.whl (7.6 MB)\n",
            "\u001b[2K     \u001b[90m━━━━━━━━━━━━━━━━━━━━━━━━━━━━━━━━━━━━━━━━\u001b[0m \u001b[32m7.6/7.6 MB\u001b[0m \u001b[31m95.7 MB/s\u001b[0m eta \u001b[36m0:00:00\u001b[0m\n",
            "\u001b[?25hRequirement already satisfied: click in /usr/local/lib/python3.9/dist-packages (from nltk->sentence_transformers) (8.1.3)\n",
            "Requirement already satisfied: joblib in /usr/local/lib/python3.9/dist-packages (from nltk->sentence_transformers) (1.1.1)\n",
            "Requirement already satisfied: threadpoolctl>=2.0.0 in /usr/local/lib/python3.9/dist-packages (from scikit-learn->sentence_transformers) (3.1.0)\n",
            "Requirement already satisfied: pillow!=8.3.*,>=5.3.0 in /usr/local/lib/python3.9/dist-packages (from torchvision->sentence_transformers) (8.4.0)\n",
            "Requirement already satisfied: MarkupSafe>=2.0 in /usr/local/lib/python3.9/dist-packages (from jinja2->torch>=1.6.0->sentence_transformers) (2.1.2)\n",
            "Requirement already satisfied: certifi>=2017.4.17 in /usr/local/lib/python3.9/dist-packages (from requests->huggingface-hub>=0.4.0->sentence_transformers) (2022.12.7)\n",
            "Requirement already satisfied: urllib3<1.27,>=1.21.1 in /usr/local/lib/python3.9/dist-packages (from requests->huggingface-hub>=0.4.0->sentence_transformers) (1.26.15)\n",
            "Requirement already satisfied: idna<4,>=2.5 in /usr/local/lib/python3.9/dist-packages (from requests->huggingface-hub>=0.4.0->sentence_transformers) (3.4)\n",
            "Requirement already satisfied: charset-normalizer~=2.0.0 in /usr/local/lib/python3.9/dist-packages (from requests->huggingface-hub>=0.4.0->sentence_transformers) (2.0.12)\n",
            "Requirement already satisfied: mpmath>=0.19 in /usr/local/lib/python3.9/dist-packages (from sympy->torch>=1.6.0->sentence_transformers) (1.3.0)\n",
            "Building wheels for collected packages: sentence_transformers\n",
            "  Building wheel for sentence_transformers (setup.py) ... \u001b[?25l\u001b[?25hdone\n",
            "  Created wheel for sentence_transformers: filename=sentence_transformers-2.2.2-py3-none-any.whl size=125942 sha256=99a6aa1deceec84843da46317301d6fe1f511daa144e4eca6adee7ada30b76f0\n",
            "  Stored in directory: /root/.cache/pip/wheels/71/67/06/162a3760c40d74dd40bc855d527008d26341c2b0ecf3e8e11f\n",
            "Successfully built sentence_transformers\n",
            "Installing collected packages: tokenizers, sentencepiece, huggingface-hub, transformers, sentence_transformers\n",
            "Successfully installed huggingface-hub-0.13.3 sentence_transformers-2.2.2 sentencepiece-0.1.97 tokenizers-0.13.2 transformers-4.27.4\n"
          ]
        }
      ]
    },
    {
      "cell_type": "code",
      "source": [
        "pip install pandas"
      ],
      "metadata": {
        "colab": {
          "base_uri": "https://localhost:8080/"
        },
        "id": "LE6eJq4GXZYh",
        "outputId": "4b36a72e-f234-4525-fc9c-62332a8680ef"
      },
      "execution_count": null,
      "outputs": [
        {
          "output_type": "stream",
          "name": "stdout",
          "text": [
            "Looking in indexes: https://pypi.org/simple, https://us-python.pkg.dev/colab-wheels/public/simple/\n",
            "Requirement already satisfied: pandas in /usr/local/lib/python3.9/dist-packages (1.4.4)\n",
            "Requirement already satisfied: numpy>=1.18.5 in /usr/local/lib/python3.9/dist-packages (from pandas) (1.22.4)\n",
            "Requirement already satisfied: python-dateutil>=2.8.1 in /usr/local/lib/python3.9/dist-packages (from pandas) (2.8.2)\n",
            "Requirement already satisfied: pytz>=2020.1 in /usr/local/lib/python3.9/dist-packages (from pandas) (2022.7.1)\n",
            "Requirement already satisfied: six>=1.5 in /usr/local/lib/python3.9/dist-packages (from python-dateutil>=2.8.1->pandas) (1.16.0)\n"
          ]
        }
      ]
    },
    {
      "cell_type": "code",
      "source": [
        "pip install numpy"
      ],
      "metadata": {
        "colab": {
          "base_uri": "https://localhost:8080/"
        },
        "id": "bWDgtS2qXb0l",
        "outputId": "5616eb19-a9a8-40b3-cfa8-2efc38501a0e"
      },
      "execution_count": null,
      "outputs": [
        {
          "output_type": "stream",
          "name": "stdout",
          "text": [
            "Looking in indexes: https://pypi.org/simple, https://us-python.pkg.dev/colab-wheels/public/simple/\n",
            "Requirement already satisfied: numpy in /usr/local/lib/python3.9/dist-packages (1.22.4)\n"
          ]
        }
      ]
    },
    {
      "cell_type": "code",
      "source": [
        "pip install scipy"
      ],
      "metadata": {
        "colab": {
          "base_uri": "https://localhost:8080/"
        },
        "id": "0uTOxjD7XeMl",
        "outputId": "7a25593f-9bee-4235-db54-197176530831"
      },
      "execution_count": null,
      "outputs": [
        {
          "output_type": "stream",
          "name": "stdout",
          "text": [
            "Looking in indexes: https://pypi.org/simple, https://us-python.pkg.dev/colab-wheels/public/simple/\n",
            "Requirement already satisfied: scipy in /usr/local/lib/python3.9/dist-packages (1.10.1)\n",
            "Requirement already satisfied: numpy<1.27.0,>=1.19.5 in /usr/local/lib/python3.9/dist-packages (from scipy) (1.22.4)\n"
          ]
        }
      ]
    },
    {
      "cell_type": "code",
      "source": [
        "pip install tqdm"
      ],
      "metadata": {
        "colab": {
          "base_uri": "https://localhost:8080/"
        },
        "id": "6qTYzMgaXgVy",
        "outputId": "d155e70b-8635-42b5-99d5-3e15fdf6daa6"
      },
      "execution_count": null,
      "outputs": [
        {
          "output_type": "stream",
          "name": "stdout",
          "text": [
            "Looking in indexes: https://pypi.org/simple, https://us-python.pkg.dev/colab-wheels/public/simple/\n",
            "Requirement already satisfied: tqdm in /usr/local/lib/python3.9/dist-packages (4.65.0)\n"
          ]
        }
      ]
    },
    {
      "cell_type": "code",
      "source": [
        "pip install scikit_surprise"
      ],
      "metadata": {
        "colab": {
          "base_uri": "https://localhost:8080/"
        },
        "id": "0QQ5zkgRXjc4",
        "outputId": "138885e3-cbd6-42cc-cc60-0301a97de49a"
      },
      "execution_count": null,
      "outputs": [
        {
          "output_type": "stream",
          "name": "stdout",
          "text": [
            "Looking in indexes: https://pypi.org/simple, https://us-python.pkg.dev/colab-wheels/public/simple/\n",
            "Collecting scikit_surprise\n",
            "  Downloading scikit-surprise-1.1.3.tar.gz (771 kB)\n",
            "\u001b[2K     \u001b[90m━━━━━━━━━━━━━━━━━━━━━━━━━━━━━━━━━━━━━━\u001b[0m \u001b[32m772.0/772.0 KB\u001b[0m \u001b[31m26.2 MB/s\u001b[0m eta \u001b[36m0:00:00\u001b[0m\n",
            "\u001b[?25h  Preparing metadata (setup.py) ... \u001b[?25l\u001b[?25hdone\n",
            "Requirement already satisfied: joblib>=1.0.0 in /usr/local/lib/python3.9/dist-packages (from scikit_surprise) (1.1.1)\n",
            "Requirement already satisfied: numpy>=1.17.3 in /usr/local/lib/python3.9/dist-packages (from scikit_surprise) (1.22.4)\n",
            "Requirement already satisfied: scipy>=1.3.2 in /usr/local/lib/python3.9/dist-packages (from scikit_surprise) (1.10.1)\n",
            "Building wheels for collected packages: scikit_surprise\n",
            "  Building wheel for scikit_surprise (setup.py) ... \u001b[?25l\u001b[?25hdone\n",
            "  Created wheel for scikit_surprise: filename=scikit_surprise-1.1.3-cp39-cp39-linux_x86_64.whl size=3193649 sha256=b2921180076bc43231ba2c12063419c4dbaa311f31bb74c301dd693b028c82ae\n",
            "  Stored in directory: /root/.cache/pip/wheels/c6/3a/46/9b17b3512bdf283c6cb84f59929cdd5199d4e754d596d22784\n",
            "Successfully built scikit_surprise\n",
            "Installing collected packages: scikit_surprise\n",
            "Successfully installed scikit_surprise-1.1.3\n"
          ]
        }
      ]
    },
    {
      "cell_type": "code",
      "source": [
        "pip install scikit_learn"
      ],
      "metadata": {
        "colab": {
          "base_uri": "https://localhost:8080/"
        },
        "id": "VgYWBn9dXleG",
        "outputId": "53c16dac-637b-4755-85fb-5b3872f5d6e0"
      },
      "execution_count": null,
      "outputs": [
        {
          "output_type": "stream",
          "name": "stdout",
          "text": [
            "Looking in indexes: https://pypi.org/simple, https://us-python.pkg.dev/colab-wheels/public/simple/\n",
            "Requirement already satisfied: scikit_learn in /usr/local/lib/python3.9/dist-packages (1.2.2)\n",
            "Requirement already satisfied: scipy>=1.3.2 in /usr/local/lib/python3.9/dist-packages (from scikit_learn) (1.10.1)\n",
            "Requirement already satisfied: joblib>=1.1.1 in /usr/local/lib/python3.9/dist-packages (from scikit_learn) (1.1.1)\n",
            "Requirement already satisfied: threadpoolctl>=2.0.0 in /usr/local/lib/python3.9/dist-packages (from scikit_learn) (3.1.0)\n",
            "Requirement already satisfied: numpy>=1.17.3 in /usr/local/lib/python3.9/dist-packages (from scikit_learn) (1.22.4)\n"
          ]
        }
      ]
    },
    {
      "cell_type": "code",
      "source": [
        "pip install git-lfs"
      ],
      "metadata": {
        "colab": {
          "base_uri": "https://localhost:8080/"
        },
        "id": "EE8Xyy9eYasZ",
        "outputId": "917f7398-e90d-46ae-adfc-83a59a830e23"
      },
      "execution_count": null,
      "outputs": [
        {
          "output_type": "stream",
          "name": "stdout",
          "text": [
            "Looking in indexes: https://pypi.org/simple, https://us-python.pkg.dev/colab-wheels/public/simple/\n",
            "Collecting git-lfs\n",
            "  Downloading git_lfs-1.6-py2.py3-none-any.whl (5.6 kB)\n",
            "Installing collected packages: git-lfs\n",
            "Successfully installed git-lfs-1.6\n"
          ]
        }
      ]
    },
    {
      "cell_type": "code",
      "source": [
        "!git lfs install\n",
        "!git clone https://huggingface.co/datasets/coached_conv_pref"
      ],
      "metadata": {
        "colab": {
          "base_uri": "https://localhost:8080/"
        },
        "id": "pCxQpELQYT55",
        "outputId": "a4f84e8d-7df5-4fd1-deb8-e3002a8b0a3a"
      },
      "execution_count": null,
      "outputs": [
        {
          "output_type": "stream",
          "name": "stdout",
          "text": [
            "Error: Failed to call git rev-parse --git-dir: exit status 128 \n",
            "Git LFS initialized.\n",
            "Cloning into 'coached_conv_pref'...\n",
            "remote: Enumerating objects: 48, done.\u001b[K\n",
            "remote: Total 48 (delta 0), reused 0 (delta 0), pack-reused 48\u001b[K\n",
            "Unpacking objects: 100% (48/48), 12.52 KiB | 855.00 KiB/s, done.\n"
          ]
        }
      ]
    },
    {
      "cell_type": "code",
      "source": [
        "pip install datasets"
      ],
      "metadata": {
        "colab": {
          "base_uri": "https://localhost:8080/"
        },
        "id": "-V1ytuZNatPV",
        "outputId": "b9311431-beb0-4ea9-a858-5779c73fc6e0"
      },
      "execution_count": null,
      "outputs": [
        {
          "output_type": "stream",
          "name": "stdout",
          "text": [
            "Looking in indexes: https://pypi.org/simple, https://us-python.pkg.dev/colab-wheels/public/simple/\n",
            "Collecting datasets\n",
            "  Downloading datasets-2.11.0-py3-none-any.whl (468 kB)\n",
            "\u001b[2K     \u001b[90m━━━━━━━━━━━━━━━━━━━━━━━━━━━━━━━━━━━━━━\u001b[0m \u001b[32m468.7/468.7 KB\u001b[0m \u001b[31m19.3 MB/s\u001b[0m eta \u001b[36m0:00:00\u001b[0m\n",
            "\u001b[?25hRequirement already satisfied: numpy>=1.17 in /usr/local/lib/python3.9/dist-packages (from datasets) (1.22.4)\n",
            "Requirement already satisfied: requests>=2.19.0 in /usr/local/lib/python3.9/dist-packages (from datasets) (2.27.1)\n",
            "Collecting responses<0.19\n",
            "  Downloading responses-0.18.0-py3-none-any.whl (38 kB)\n",
            "Requirement already satisfied: pandas in /usr/local/lib/python3.9/dist-packages (from datasets) (1.4.4)\n",
            "Requirement already satisfied: pyarrow>=8.0.0 in /usr/local/lib/python3.9/dist-packages (from datasets) (9.0.0)\n",
            "Requirement already satisfied: tqdm>=4.62.1 in /usr/local/lib/python3.9/dist-packages (from datasets) (4.65.0)\n",
            "Collecting xxhash\n",
            "  Downloading xxhash-3.2.0-cp39-cp39-manylinux_2_17_x86_64.manylinux2014_x86_64.whl (212 kB)\n",
            "\u001b[2K     \u001b[90m━━━━━━━━━━━━━━━━━━━━━━━━━━━━━━━━━━━━━━\u001b[0m \u001b[32m212.2/212.2 KB\u001b[0m \u001b[31m23.4 MB/s\u001b[0m eta \u001b[36m0:00:00\u001b[0m\n",
            "\u001b[?25hCollecting aiohttp\n",
            "  Downloading aiohttp-3.8.4-cp39-cp39-manylinux_2_17_x86_64.manylinux2014_x86_64.whl (1.0 MB)\n",
            "\u001b[2K     \u001b[90m━━━━━━━━━━━━━━━━━━━━━━━━━━━━━━━━━━━━━━━━\u001b[0m \u001b[32m1.0/1.0 MB\u001b[0m \u001b[31m47.7 MB/s\u001b[0m eta \u001b[36m0:00:00\u001b[0m\n",
            "\u001b[?25hRequirement already satisfied: fsspec[http]>=2021.11.1 in /usr/local/lib/python3.9/dist-packages (from datasets) (2023.3.0)\n",
            "Collecting multiprocess\n",
            "  Downloading multiprocess-0.70.14-py39-none-any.whl (132 kB)\n",
            "\u001b[2K     \u001b[90m━━━━━━━━━━━━━━━━━━━━━━━━━━━━━━━━━━━━━━\u001b[0m \u001b[32m132.9/132.9 KB\u001b[0m \u001b[31m16.9 MB/s\u001b[0m eta \u001b[36m0:00:00\u001b[0m\n",
            "\u001b[?25hRequirement already satisfied: pyyaml>=5.1 in /usr/local/lib/python3.9/dist-packages (from datasets) (6.0)\n",
            "Requirement already satisfied: packaging in /usr/local/lib/python3.9/dist-packages (from datasets) (23.0)\n",
            "Requirement already satisfied: huggingface-hub<1.0.0,>=0.11.0 in /usr/local/lib/python3.9/dist-packages (from datasets) (0.13.3)\n",
            "Collecting dill<0.3.7,>=0.3.0\n",
            "  Downloading dill-0.3.6-py3-none-any.whl (110 kB)\n",
            "\u001b[2K     \u001b[90m━━━━━━━━━━━━━━━━━━━━━━━━━━━━━━━━━━━━━━\u001b[0m \u001b[32m110.5/110.5 KB\u001b[0m \u001b[31m11.6 MB/s\u001b[0m eta \u001b[36m0:00:00\u001b[0m\n",
            "\u001b[?25hCollecting frozenlist>=1.1.1\n",
            "  Downloading frozenlist-1.3.3-cp39-cp39-manylinux_2_5_x86_64.manylinux1_x86_64.manylinux_2_17_x86_64.manylinux2014_x86_64.whl (158 kB)\n",
            "\u001b[2K     \u001b[90m━━━━━━━━━━━━━━━━━━━━━━━━━━━━━━━━━━━━━━\u001b[0m \u001b[32m158.8/158.8 KB\u001b[0m \u001b[31m13.5 MB/s\u001b[0m eta \u001b[36m0:00:00\u001b[0m\n",
            "\u001b[?25hCollecting yarl<2.0,>=1.0\n",
            "  Downloading yarl-1.8.2-cp39-cp39-manylinux_2_17_x86_64.manylinux2014_x86_64.whl (264 kB)\n",
            "\u001b[2K     \u001b[90m━━━━━━━━━━━━━━━━━━━━━━━━━━━━━━━━━━━━━━\u001b[0m \u001b[32m264.6/264.6 KB\u001b[0m \u001b[31m26.6 MB/s\u001b[0m eta \u001b[36m0:00:00\u001b[0m\n",
            "\u001b[?25hCollecting aiosignal>=1.1.2\n",
            "  Downloading aiosignal-1.3.1-py3-none-any.whl (7.6 kB)\n",
            "Requirement already satisfied: charset-normalizer<4.0,>=2.0 in /usr/local/lib/python3.9/dist-packages (from aiohttp->datasets) (2.0.12)\n",
            "Collecting async-timeout<5.0,>=4.0.0a3\n",
            "  Downloading async_timeout-4.0.2-py3-none-any.whl (5.8 kB)\n",
            "Requirement already satisfied: attrs>=17.3.0 in /usr/local/lib/python3.9/dist-packages (from aiohttp->datasets) (22.2.0)\n",
            "Collecting multidict<7.0,>=4.5\n",
            "  Downloading multidict-6.0.4-cp39-cp39-manylinux_2_17_x86_64.manylinux2014_x86_64.whl (114 kB)\n",
            "\u001b[2K     \u001b[90m━━━━━━━━━━━━━━━━━━━━━━━━━━━━━━━━━━━━━━\u001b[0m \u001b[32m114.2/114.2 KB\u001b[0m \u001b[31m13.3 MB/s\u001b[0m eta \u001b[36m0:00:00\u001b[0m\n",
            "\u001b[?25hRequirement already satisfied: filelock in /usr/local/lib/python3.9/dist-packages (from huggingface-hub<1.0.0,>=0.11.0->datasets) (3.10.7)\n",
            "Requirement already satisfied: typing-extensions>=3.7.4.3 in /usr/local/lib/python3.9/dist-packages (from huggingface-hub<1.0.0,>=0.11.0->datasets) (4.5.0)\n",
            "Requirement already satisfied: idna<4,>=2.5 in /usr/local/lib/python3.9/dist-packages (from requests>=2.19.0->datasets) (3.4)\n",
            "Requirement already satisfied: certifi>=2017.4.17 in /usr/local/lib/python3.9/dist-packages (from requests>=2.19.0->datasets) (2022.12.7)\n",
            "Requirement already satisfied: urllib3<1.27,>=1.21.1 in /usr/local/lib/python3.9/dist-packages (from requests>=2.19.0->datasets) (1.26.15)\n",
            "Requirement already satisfied: pytz>=2020.1 in /usr/local/lib/python3.9/dist-packages (from pandas->datasets) (2022.7.1)\n",
            "Requirement already satisfied: python-dateutil>=2.8.1 in /usr/local/lib/python3.9/dist-packages (from pandas->datasets) (2.8.2)\n",
            "Requirement already satisfied: six>=1.5 in /usr/local/lib/python3.9/dist-packages (from python-dateutil>=2.8.1->pandas->datasets) (1.16.0)\n",
            "Installing collected packages: xxhash, multidict, frozenlist, dill, async-timeout, yarl, responses, multiprocess, aiosignal, aiohttp, datasets\n",
            "Successfully installed aiohttp-3.8.4 aiosignal-1.3.1 async-timeout-4.0.2 datasets-2.11.0 dill-0.3.6 frozenlist-1.3.3 multidict-6.0.4 multiprocess-0.70.14 responses-0.18.0 xxhash-3.2.0 yarl-1.8.2\n"
          ]
        }
      ]
    },
    {
      "cell_type": "code",
      "source": [
        "!python /content/coached_conv_pref/coached_conv_pref.py"
      ],
      "metadata": {
        "id": "QTUTF_6-adrv"
      },
      "execution_count": null,
      "outputs": []
    },
    {
      "cell_type": "code",
      "source": [
        "from datasets import load_dataset\n",
        "\n",
        "# Load the dataset using the modified script\n",
        "ccpe_dataset = load_dataset(\"/content/coached_conv_pref/coached_conv_pref.py\")\n",
        "\n",
        "# Access the dataset (in this case, the train split)\n",
        "train_dataset = ccpe_dataset[\"train\"]\n",
        "\n",
        "# Print the first 5 examples from the dataset\n",
        "for i, example in enumerate(train_dataset):\n",
        "    print(example)\n",
        "    if i >= 4:\n",
        "        break\n",
        "\n"
      ],
      "metadata": {
        "colab": {
          "base_uri": "https://localhost:8080/",
          "height": 340,
          "referenced_widgets": [
            "523d4076e940400fae155265679c591d",
            "5c0e93563abd41f796ede1fb07fd72ab",
            "0bd1b318b933418aa09464905063f6ad",
            "7f4b2b37b52742328907ea5c49540bc4",
            "c6a6ba26e0e741d4bbd379993141e3c8",
            "dab849c2caf24dbca0f1eeb024d3d7ee",
            "f5d3fb8272eb43c0905481fc02bdf275",
            "6536ac8861544d038c602885c0d9b5fe",
            "e4b23434108e427cb440e6174d16ee90",
            "0e70a7244a904303b9077d4fef33336c",
            "4d462053c15746fe924b4422f56eddf5",
            "1af4bad6a30f4f4a903fafa9c645edad",
            "06e0fd910f3a45bf90db24d0e7dda639",
            "ce856f222cd046639c20aee3c651ec2f",
            "49eae8dfd52347d0b425139a3cf87549",
            "e484a514fbf94c9eb9869667771345e7",
            "903936e3f8dc44458f35181b96f7f342",
            "2539c0313b024d5283e28122ef4976d2",
            "8dcc707301154f7887eb4f47b4d81e5f",
            "991226ab4af44831aff2d426ac711f9d",
            "16bb8dab439541eeae498dcae6c8e8b5",
            "152ee7ffbd114e59b8166bf71e79cae7",
            "4d35e387fc614b428207c9c87934780f",
            "63febde6e70941fe86516fd27bd15330",
            "49d32b1d2c7348a7aa096baa5d068c81",
            "10c7226a09a6405abdc2a6680015f1af",
            "f5dec4f7fe744023945d316adcc8a172",
            "fdf04876363b42f5b8aa0bf3f5fd3bde",
            "a6ea1ff1aa594fcbaf7961b6d07fddb2",
            "3d0b508d8c514f74b0ef738b5965f287",
            "9340f25c743248c39498558631e5feb1",
            "0f80265d9e05404c9dc1435ee4981a81",
            "6a12564a797a47b7ac91fb9d6fa024ea",
            "dba89c8e2b124d03b8fba8180c0a53b7",
            "b49ec588f4f941be96b253e63b3a3bde",
            "00c43d78a2964be385f59289660601dd",
            "ade7c6cdc3124be1b2cc5fb4c58a61d5",
            "466c2f8bf4f546719d390ce0bd3ecca6",
            "f9f1e2c5babf43aba87ed134f67a0cd7",
            "09c9b90deb354779889a5a8f76f6934b",
            "beae2e095c5e496892d543845a09400a",
            "8b738639d6f447209a9b5daa43d09a4c",
            "45e6aa0218914c5a98dadb0ce36054cf",
            "85fa440416a84d90a2b971fc2348af80"
          ]
        },
        "id": "1TrOK7rJbidY",
        "outputId": "a6a652de-29be-457f-c22f-4291f4eacf6c"
      },
      "execution_count": null,
      "outputs": [
        {
          "output_type": "stream",
          "name": "stdout",
          "text": [
            "Downloading and preparing dataset coached_conv_pref/coached_conv_pref to /root/.cache/huggingface/datasets/coached_conv_pref/coached_conv_pref/1.1.0/5b6c6684582ba89ddab3e173e620ce3c0879b88a16843ed4f3ca63ab401338fe...\n"
          ]
        },
        {
          "output_type": "display_data",
          "data": {
            "text/plain": [
              "Downloading data files:   0%|          | 0/1 [00:00<?, ?it/s]"
            ],
            "application/vnd.jupyter.widget-view+json": {
              "version_major": 2,
              "version_minor": 0,
              "model_id": "523d4076e940400fae155265679c591d"
            }
          },
          "metadata": {}
        },
        {
          "output_type": "display_data",
          "data": {
            "text/plain": [
              "Extracting data files:   0%|          | 0/1 [00:00<?, ?it/s]"
            ],
            "application/vnd.jupyter.widget-view+json": {
              "version_major": 2,
              "version_minor": 0,
              "model_id": "1af4bad6a30f4f4a903fafa9c645edad"
            }
          },
          "metadata": {}
        },
        {
          "output_type": "display_data",
          "data": {
            "text/plain": [
              "Generating train split:   0%|          | 0/502 [00:00<?, ? examples/s]"
            ],
            "application/vnd.jupyter.widget-view+json": {
              "version_major": 2,
              "version_minor": 0,
              "model_id": "4d35e387fc614b428207c9c87934780f"
            }
          },
          "metadata": {}
        },
        {
          "output_type": "stream",
          "name": "stdout",
          "text": [
            "Dataset coached_conv_pref downloaded and prepared to /root/.cache/huggingface/datasets/coached_conv_pref/coached_conv_pref/1.1.0/5b6c6684582ba89ddab3e173e620ce3c0879b88a16843ed4f3ca63ab401338fe. Subsequent calls will reuse this data.\n"
          ]
        },
        {
          "output_type": "display_data",
          "data": {
            "text/plain": [
              "  0%|          | 0/1 [00:00<?, ?it/s]"
            ],
            "application/vnd.jupyter.widget-view+json": {
              "version_major": 2,
              "version_minor": 0,
              "model_id": "dba89c8e2b124d03b8fba8180c0a53b7"
            }
          },
          "metadata": {}
        },
        {
          "output_type": "stream",
          "name": "stdout",
          "text": [
            "{'conversationId': 'CCPE-8e113', 'utterances': {'index': [0, 1, 2, 3, 4, 5, 6, 7, 8, 9, 10, 11, 12, 13, 14, 15, 16, 17, 18, 19, 20, 21, 22, 23, 24, 25, 26, 27, 28, 29, 30, 31, 32, 33, 34, 35, 36, 37, 38, 39, 40, 41, 42], 'speaker': [1, 0, 1, 0, 0, 1, 0, 1, 0, 1, 0, 1, 0, 1, 0, 1, 0, 1, 0, 1, 0, 1, 0, 0, 1, 0, 1, 0, 1, 0, 1, 0, 1, 0, 1, 1, 0, 1, 0, 1, 0, 1, 0], 'text': ['generally speaking what type of movies do you watch', 'I like thrillers a lot.', 'thrillers? for example?', \"Zodiac's one of my favorite movies.\", \"Zodiac the movie about a serial killer from the '60s or '70s, around there.\", 'Zodiac? oh wow ok, what do you like about that movie', 'And I just think serial killers, in general, are interesting, so the movie was really good. And it was just neat to see that world. Like it went really in-depth. It was like almost 3 hours long, so you got to really feel like you were a part of that world and time period. And see what the detectives and the police did and the investigators.', 'so you feel like you were part of that world ?', 'Yeah. It was really an immersive movie.', 'if you were in the movie what character do you feel most relatable', \"Probably the main character, Robert Graysmith, just cuz he's awkward and bumbly. So, I guess that's the one I would be the closest to.\", 'what scene do you like the best', \"Probably the most memorable one is the murder at the lake. Just cuz it's really vivid and horrific to watch. But it's very memorable.\", 'ok nice, any other similiar movies you have seen recently?', 'Not that I can think of.', 'how about different type of movies like Once Upon a Deadpool', \"I haven't seen that.\", 'have you heard of that movie', \"I've heard of it, but I haven't seen it.\", 'would you be interested to watch it', \"Not particularly. I don't really like comic book movies that much. But I really wanted to see Deadpool, so I'd probably be more willing to watch that than most comic book movies.\", 'oh what makes deadpool different than the others?', \"I don't know. It just seems a unique concept and different, not just the standard superhero movie.\", \"And it's more of a comedy, so that's unique.\", 'ok so you enjoy comedy as well, correct?', 'Yep, I think most people do.', \"what type of movie you don't enjoy?\", \"I'm not a big action movie fan like Die Hard or like Rambo movies. I don't hate them, I just think they're boring. Like I can't watch a lot of them, or else I get sick of them.\", 'what about mission impossible?', \"Never seen it. I know what it is, but I haven't seen it.\", 'do you care who acts in the movie?', \"Just in general? I'm not I'm not picky about actors. Like I won't see a movie just cuz I don't like the actor in it.\", 'oh ok so you dont have a favorite actor is that right', \"I mean I like certain actors more than others, but I wouldn't say I have a favorite actor.\", 'ok who came to your mind when it comes to actors you like to see in the movie', 'what is your favorite Tom Hanks movie?', 'Catch Me If You Can', 'what so great about that movie', \"It's just an interesting story and it's based on a true story and it's got Leonardo Dicaprio in it, another good actor.\", 'do you think that movie is exciting?', 'Yep.', 'which scene you find most memorable?', \"It's been a long time since I've seen that movie. I can't think of any specific scene.\"], 'segments': [{'startIndex': [0], 'endIndex': [0], 'text': [''], 'annotations': [{'annotationType': [], 'entityType': []}]}, {'startIndex': [7, 0], 'endIndex': [16, 22], 'text': ['thrillers', 'I like thrillers a lot'], 'annotations': [{'annotationType': [0], 'entityType': [0]}, {'annotationType': [1], 'entityType': [0]}]}, {'startIndex': [0], 'endIndex': [9], 'text': ['thrillers'], 'annotations': [{'annotationType': [0], 'entityType': [0]}]}, {'startIndex': [0, 0], 'endIndex': [6, 34], 'text': ['Zodiac', \"Zodiac's one of my favorite movies\"], 'annotations': [{'annotationType': [0], 'entityType': [1]}, {'annotationType': [1], 'entityType': [0]}]}, {'startIndex': [0, 0], 'endIndex': [6, 74], 'text': ['Zodiac', \"Zodiac the movie about a serial killer from the '60s or '70s, around there\"], 'annotations': [{'annotationType': [0], 'entityType': [1]}, {'annotationType': [2], 'entityType': [1]}]}, {'startIndex': [0], 'endIndex': [6], 'text': ['Zodiac'], 'annotations': [{'annotationType': [0], 'entityType': [1]}]}, {'startIndex': [4, 96, 137, 162, 273], 'endIndex': [90, 130, 160, 271, 341], 'text': ['I just think serial killers, in general, are interesting, so the movie was really good', 'it was just neat to see that world', 'it went really in-depth', 'It was like almost 3 hours long, so you got to really feel like you were a part of that world and time period', 'And see what the detectives and the police did and the investigators'], 'annotations': [{'annotationType': [1], 'entityType': [1]}, {'annotationType': [1], 'entityType': [1]}, {'annotationType': [1], 'entityType': [1]}, {'annotationType': [1], 'entityType': [1]}, {'annotationType': [1], 'entityType': [1]}]}, {'startIndex': [0], 'endIndex': [0], 'text': [''], 'annotations': [{'annotationType': [], 'entityType': []}]}, {'startIndex': [6], 'endIndex': [38], 'text': ['It was really an immersive movie'], 'annotations': [{'annotationType': [1], 'entityType': [1]}]}, {'startIndex': [0], 'endIndex': [0], 'text': [''], 'annotations': [{'annotationType': [], 'entityType': []}]}, {'startIndex': [0], 'endIndex': [79], 'text': [\"Probably the main character, Robert Graysmith, just cuz he's awkward and bumbly\"], 'annotations': [{'annotationType': [1], 'entityType': [1]}]}, {'startIndex': [0], 'endIndex': [0], 'text': [''], 'annotations': [{'annotationType': [], 'entityType': []}]}, {'startIndex': [68], 'endIndex': [132], 'text': [\"it's really vivid and horrific to watch. But it's very memorable\"], 'annotations': [{'annotationType': [1], 'entityType': [1]}]}, {'startIndex': [0], 'endIndex': [0], 'text': [''], 'annotations': [{'annotationType': [], 'entityType': []}]}, {'startIndex': [0], 'endIndex': [0], 'text': [''], 'annotations': [{'annotationType': [], 'entityType': []}]}, {'startIndex': [40], 'endIndex': [60], 'text': ['Once Upon a Deadpool'], 'annotations': [{'annotationType': [0], 'entityType': [1]}]}, {'startIndex': [0], 'endIndex': [19], 'text': [\"I haven't seen that\"], 'annotations': [{'annotationType': [3], 'entityType': [1]}]}, {'startIndex': [0], 'endIndex': [0], 'text': [''], 'annotations': [{'annotationType': [], 'entityType': []}]}, {'startIndex': [0], 'endIndex': [39], 'text': [\"I've heard of it, but I haven't seen it\"], 'annotations': [{'annotationType': [3], 'entityType': [1]}]}, {'startIndex': [0], 'endIndex': [0], 'text': [''], 'annotations': [{'annotationType': [], 'entityType': []}]}, {'startIndex': [94, 18, 107, 71], 'endIndex': [102, 65, 177, 102], 'text': ['Deadpool', \"I don't really like comic book movies that much\", \"I'd probably be more willing to watch that than most comic book movies\", 'I really wanted to see Deadpool'], 'annotations': [{'annotationType': [0], 'entityType': [1]}, {'annotationType': [1], 'entityType': [0]}, {'annotationType': [1], 'entityType': [0]}, {'annotationType': [1], 'entityType': [1]}]}, {'startIndex': [0], 'endIndex': [0], 'text': [''], 'annotations': [{'annotationType': [], 'entityType': []}]}, {'startIndex': [14, 60], 'endIndex': [58, 97], 'text': ['It just seems a unique concept and different', 'not just the standard superhero movie'], 'annotations': [{'annotationType': [1], 'entityType': [1]}, {'annotationType': [1], 'entityType': [1]}]}, {'startIndex': [4], 'endIndex': [43], 'text': [\"it's more of a comedy, so that's unique\"], 'annotations': [{'annotationType': [1], 'entityType': [1]}]}, {'startIndex': [0], 'endIndex': [0], 'text': [''], 'annotations': [{'annotationType': [], 'entityType': []}]}, {'startIndex': [5], 'endIndex': [27], 'text': ['I think most people do'], 'annotations': [{'annotationType': [1], 'entityType': [0]}]}, {'startIndex': [0], 'endIndex': [0], 'text': [''], 'annotations': [{'annotationType': [], 'entityType': []}]}, {'startIndex': [14, 36, 53, 0, 67, 120], 'endIndex': [26, 44, 58, 65, 113, 175], 'text': ['action movie', 'Die Hard', 'Rambo', \"I'm not a big action movie fan like Die Hard or like Rambo movies\", \"I don't hate them, I just think they're boring\", \"I can't watch a lot of them, or else I get sick of them\"], 'annotations': [{'annotationType': [0], 'entityType': [0]}, {'annotationType': [0], 'entityType': [1]}, {'annotationType': [0], 'entityType': [1]}, {'annotationType': [1], 'entityType': [0]}, {'annotationType': [1], 'entityType': [0]}, {'annotationType': [1], 'entityType': [0]}]}, {'startIndex': [11], 'endIndex': [29], 'text': ['mission impossible'], 'annotations': [{'annotationType': [0], 'entityType': [1]}]}, {'startIndex': [0, 15], 'endIndex': [13, 55], 'text': ['Never seen it', \"I know what it is, but I haven't seen it\"], 'annotations': [{'annotationType': [3], 'entityType': [1]}, {'annotationType': [3], 'entityType': [1]}]}, {'startIndex': [0], 'endIndex': [0], 'text': [''], 'annotations': [{'annotationType': [], 'entityType': []}]}, {'startIndex': [0], 'endIndex': [0], 'text': [''], 'annotations': [{'annotationType': [], 'entityType': []}]}, {'startIndex': [0], 'endIndex': [0], 'text': [''], 'annotations': [{'annotationType': [], 'entityType': []}]}, {'startIndex': [0], 'endIndex': [0], 'text': [''], 'annotations': [{'annotationType': [], 'entityType': []}]}, {'startIndex': [0], 'endIndex': [0], 'text': [''], 'annotations': [{'annotationType': [], 'entityType': []}]}, {'startIndex': [22], 'endIndex': [31], 'text': ['Tom Hanks'], 'annotations': [{'annotationType': [0], 'entityType': [2]}]}, {'startIndex': [0], 'endIndex': [19], 'text': ['Catch Me If You Can'], 'annotations': [{'annotationType': [0, 1], 'entityType': [1, 1]}]}, {'startIndex': [0], 'endIndex': [0], 'text': [''], 'annotations': [{'annotationType': [], 'entityType': []}]}, {'startIndex': [75, 0, 35, 66], 'endIndex': [92, 30, 61, 118], 'text': ['Leonardo Dicaprio', \"It's just an interesting story\", \"it's based on a true story\", \"it's got Leonardo Dicaprio in it, another good actor\"], 'annotations': [{'annotationType': [0], 'entityType': [2]}, {'annotationType': [1], 'entityType': [1]}, {'annotationType': [1], 'entityType': [1]}, {'annotationType': [1], 'entityType': [1]}]}, {'startIndex': [0], 'endIndex': [0], 'text': [''], 'annotations': [{'annotationType': [], 'entityType': []}]}, {'startIndex': [0], 'endIndex': [3], 'text': ['Yep'], 'annotations': [{'annotationType': [1], 'entityType': [1]}]}, {'startIndex': [0], 'endIndex': [0], 'text': [''], 'annotations': [{'annotationType': [], 'entityType': []}]}, {'startIndex': [0], 'endIndex': [48], 'text': [\"It's been a long time since I've seen that movie\"], 'annotations': [{'annotationType': [3], 'entityType': [1]}]}]}}\n",
            "{'conversationId': 'CCPE-75731', 'utterances': {'index': [0, 1, 2, 3, 4, 5, 6, 7, 8, 9, 10, 11, 12, 13, 14, 15, 16, 17, 18, 19, 20, 21, 22, 23, 24, 25, 26, 27], 'speaker': [1, 0, 1, 0, 1, 0, 1, 0, 0, 1, 0, 1, 0, 0, 1, 0, 0, 1, 0, 1, 0, 0, 1, 0, 0, 1, 0, 0], 'text': ['what kind of movies do you generally like?', 'Yeah, I mostly like comedy movies.', 'I see. Why do you like that kind of movie?', \"Well I like that kind of movie because you know, it'll make me laugh, and I often watch movies with my girlfriend, and I want to make sure whatever we watch, it's something we can both enjoy and and relax while watching.\", 'That seems really nice. Can you think of a movie you really enjoyed recently?', 'Yeah, I really enjoyed The Longest Yard with Adam Sandler.', 'What did you like about that movie?', \"I liked the acting. It's a lot of humor and gags in the movie. It had a good pace, good pacing. The story made sense.\", 'Yeah, very funny movie.', \"I see. That's really helpful.\", 'Oh great.', \"Now I'd like to know what kinds of movies you dislike if that's okay?\", 'Yeah, sure.', 'Good question. Not really a fan of Hallmark movies, that kind of romantic comedy. Mostly because they typically have pretty bad acting. Yeah, not for me.', \"Why else don't you like those?\", \"Well, I guess another reason would be that the stories are all typically same or very similar. There's no\", \"It's just it's just very boiler plate. There's nothing There's not much new about each new Hallmark movie.\", \"I see. They're pretty cookie-cutter it sounds like\", \"That's exactly right.\", \"So based on what you told me, I'm curious, did you see Jurassic World?\", 'I have not seen Jurassic World, no.', 'But I saw the original Jurassic Park', 'What did you think of the original?', \"I liked the original a lot. Very creative movie. Very ahead of it's time with the computer generated imagery CGI.\", \"Yeah, it is it still holds up. It's still is a great movie even compared to anything that that's coming out today.\", \"That's great. So if you liked the original would you consider seeing Jurassic World given the option to?\", 'Yeah, I would I would certainly consider it, yes.', \"I don't know too much about it, but I I think I saw the commercial for it.\"], 'segments': [{'startIndex': [0], 'endIndex': [0], 'text': [''], 'annotations': [{'annotationType': [], 'entityType': []}]}, {'startIndex': [20, 6], 'endIndex': [26, 33], 'text': ['comedy', 'I mostly like comedy movies'], 'annotations': [{'annotationType': [0], 'entityType': [0]}, {'annotationType': [1], 'entityType': [0]}]}, {'startIndex': [0], 'endIndex': [0], 'text': [''], 'annotations': [{'annotationType': [], 'entityType': []}]}, {'startIndex': [49, 74], 'endIndex': [68, 219], 'text': [\"it'll make me laugh\", \"I often watch movies with my girlfriend, and I want to make sure whatever we watch, it's something we can both enjoy and and relax while watching\"], 'annotations': [{'annotationType': [1], 'entityType': [0]}, {'annotationType': [1], 'entityType': [0]}]}, {'startIndex': [0], 'endIndex': [0], 'text': [''], 'annotations': [{'annotationType': [], 'entityType': []}]}, {'startIndex': [23, 45, 23, 6], 'endIndex': [39, 57, 57, 39], 'text': ['The Longest Yard', 'Adam Sandler', 'The Longest Yard with Adam Sandler', 'I really enjoyed The Longest Yard'], 'annotations': [{'annotationType': [0], 'entityType': [1]}, {'annotationType': [0], 'entityType': [2]}, {'annotationType': [2], 'entityType': [1]}, {'annotationType': [1], 'entityType': [1]}]}, {'startIndex': [0], 'endIndex': [0], 'text': [''], 'annotations': [{'annotationType': [], 'entityType': []}]}, {'startIndex': [0, 20, 63, 96], 'endIndex': [18, 61, 94, 116], 'text': ['I liked the acting', \"It's a lot of humor and gags in the movie\", 'It had a good pace, good pacing', 'The story made sense'], 'annotations': [{'annotationType': [1], 'entityType': [1]}, {'annotationType': [1], 'entityType': [1]}, {'annotationType': [1], 'entityType': [1]}, {'annotationType': [1], 'entityType': [1]}]}, {'startIndex': [6], 'endIndex': [22], 'text': ['very funny movie'], 'annotations': [{'annotationType': [1], 'entityType': [1]}]}, {'startIndex': [0], 'endIndex': [0], 'text': [''], 'annotations': [{'annotationType': [], 'entityType': []}]}, {'startIndex': [0], 'endIndex': [0], 'text': [''], 'annotations': [{'annotationType': [], 'entityType': []}]}, {'startIndex': [0], 'endIndex': [0], 'text': [''], 'annotations': [{'annotationType': [], 'entityType': []}]}, {'startIndex': [0], 'endIndex': [0], 'text': [''], 'annotations': [{'annotationType': [], 'entityType': []}]}, {'startIndex': [35, 65, 15, 97, 142], 'endIndex': [43, 80, 50, 134, 152], 'text': ['Hallmark', 'romantic comedy', 'Not really a fan of Hallmark movies', 'they typically have pretty bad acting', 'not for me'], 'annotations': [{'annotationType': [0], 'entityType': [0]}, {'annotationType': [0], 'entityType': [0]}, {'annotationType': [1], 'entityType': [0]}, {'annotationType': [1], 'entityType': [0]}, {'annotationType': [1], 'entityType': [0]}]}, {'startIndex': [0], 'endIndex': [0], 'text': [''], 'annotations': [{'annotationType': [], 'entityType': []}]}, {'startIndex': [43], 'endIndex': [93], 'text': ['the stories are all typically same or very similar'], 'annotations': [{'annotationType': [1], 'entityType': [0]}]}, {'startIndex': [91, 10, 55], 'endIndex': [99, 37, 105], 'text': ['Hallmark', \"it's just very boiler plate\", \"There's not much new about each new Hallmark movie\"], 'annotations': [{'annotationType': [0], 'entityType': [0]}, {'annotationType': [1], 'entityType': [0]}, {'annotationType': [1], 'entityType': [0]}]}, {'startIndex': [0], 'endIndex': [0], 'text': [''], 'annotations': [{'annotationType': [], 'entityType': []}]}, {'startIndex': [0], 'endIndex': [20], 'text': [\"That's exactly right\"], 'annotations': [{'annotationType': [1], 'entityType': [0]}]}, {'startIndex': [55], 'endIndex': [69], 'text': ['Jurassic World'], 'annotations': [{'annotationType': [0], 'entityType': [1]}]}, {'startIndex': [16, 0], 'endIndex': [30, 34], 'text': ['Jurassic World', 'I have not seen Jurassic World, no'], 'annotations': [{'annotationType': [0], 'entityType': [1]}, {'annotationType': [3], 'entityType': [1]}]}, {'startIndex': [23, 4], 'endIndex': [36, 36], 'text': ['Jurassic Park', 'I saw the original Jurassic Park'], 'annotations': [{'annotationType': [0], 'entityType': [1]}, {'annotationType': [3], 'entityType': [1]}]}, {'startIndex': [0], 'endIndex': [0], 'text': [''], 'annotations': [{'annotationType': [], 'entityType': []}]}, {'startIndex': [0, 28, 49], 'endIndex': [26, 47, 112], 'text': ['I liked the original a lot', 'Very creative movie', \"Very ahead of it's time with the computer generated imagery CGI\"], 'annotations': [{'annotationType': [1], 'entityType': [1]}, {'annotationType': [1], 'entityType': [1]}, {'annotationType': [1], 'entityType': [1]}]}, {'startIndex': [12, 31], 'endIndex': [29, 113], 'text': ['it still holds up', \"It's still is a great movie even compared to anything that that's coming out today\"], 'annotations': [{'annotationType': [1], 'entityType': [1]}, {'annotationType': [1], 'entityType': [1]}]}, {'startIndex': [69], 'endIndex': [83], 'text': ['Jurassic World'], 'annotations': [{'annotationType': [0], 'entityType': [1]}]}, {'startIndex': [0], 'endIndex': [48], 'text': ['Yeah, I would I would certainly consider it, yes'], 'annotations': [{'annotationType': [3], 'entityType': [1]}]}, {'startIndex': [0], 'endIndex': [30], 'text': [\"I don't know too much about it\"], 'annotations': [{'annotationType': [3], 'entityType': [1]}]}]}}\n",
            "{'conversationId': 'CCPE-6faee', 'utterances': {'index': [0, 1, 2, 3, 4, 5, 6, 7, 8, 9, 10, 11, 12, 13, 14, 15], 'speaker': [1, 0, 1, 0, 1, 0, 1, 0, 1, 0, 1, 0, 1, 0, 1, 0], 'text': ['What kinds of movies do you like?', 'I really like comedy movies.', 'Why do you like comedies?', \"I love to laugh and comedy movies, that's their whole purpose. Make you laugh.\", 'Alright, how about a movie you liked?', 'I liked Step Brothers.', 'Why did you like that movie?', 'Had some amazing one-liners that still get used today even though the movie was made awhile ago.', 'Well, is there a movie you did not like?', \"I don't like RV.\", 'Why not?', \"And I just didn't It was just so slow and boring. I didn't like it.\", 'Ok, then have you seen the movie Jurassic World: Fallen Kingdom', 'I have seen the movie Jurassic World: Fallen Kingdom.', 'What is it about these kinds of movies that you like or dislike?', 'I really like the actors. I feel like they were doing their best to make the movie better. And I just really like the scenery, and the the dinosaurs were awesome.'], 'segments': [{'startIndex': [0], 'endIndex': [0], 'text': [''], 'annotations': [{'annotationType': [], 'entityType': []}]}, {'startIndex': [14, 0], 'endIndex': [20, 27], 'text': ['comedy', 'I really like comedy movies'], 'annotations': [{'annotationType': [0], 'entityType': [0]}, {'annotationType': [1], 'entityType': [0]}]}, {'startIndex': [16], 'endIndex': [24], 'text': ['comedies'], 'annotations': [{'annotationType': [0], 'entityType': [0]}]}, {'startIndex': [0], 'endIndex': [15], 'text': ['I love to laugh'], 'annotations': [{'annotationType': [1], 'entityType': [0]}]}, {'startIndex': [0], 'endIndex': [0], 'text': [''], 'annotations': [{'annotationType': [], 'entityType': []}]}, {'startIndex': [8, 0], 'endIndex': [21, 21], 'text': ['Step Brothers', 'I liked Step Brothers'], 'annotations': [{'annotationType': [0], 'entityType': [1]}, {'annotationType': [1], 'entityType': [1]}]}, {'startIndex': [0], 'endIndex': [0], 'text': [''], 'annotations': [{'annotationType': [], 'entityType': []}]}, {'startIndex': [0], 'endIndex': [32], 'text': ['Had some amazing one-liners that'], 'annotations': [{'annotationType': [1], 'entityType': [1]}]}, {'startIndex': [0], 'endIndex': [0], 'text': [''], 'annotations': [{'annotationType': [], 'entityType': []}]}, {'startIndex': [13, 0], 'endIndex': [15, 15], 'text': ['RV', \"I don't like RV\"], 'annotations': [{'annotationType': [0], 'entityType': [1]}, {'annotationType': [1], 'entityType': [1]}]}, {'startIndex': [0], 'endIndex': [0], 'text': [''], 'annotations': [{'annotationType': [], 'entityType': []}]}, {'startIndex': [18, 50], 'endIndex': [48, 66], 'text': ['It was just so slow and boring', \"I didn't like it\"], 'annotations': [{'annotationType': [1], 'entityType': [1]}, {'annotationType': [1], 'entityType': [1]}]}, {'startIndex': [33], 'endIndex': [63], 'text': ['Jurassic World: Fallen Kingdom'], 'annotations': [{'annotationType': [0], 'entityType': [1]}]}, {'startIndex': [22, 0], 'endIndex': [52, 52], 'text': ['Jurassic World: Fallen Kingdom', 'I have seen the movie Jurassic World: Fallen Kingdom'], 'annotations': [{'annotationType': [0], 'entityType': [1]}, {'annotationType': [3], 'entityType': [1]}]}, {'startIndex': [0], 'endIndex': [0], 'text': [''], 'annotations': [{'annotationType': [], 'entityType': []}]}, {'startIndex': [0, 95, 135], 'endIndex': [24, 125, 161], 'text': ['I really like the actors', 'I just really like the scenery', 'the dinosaurs were awesome'], 'annotations': [{'annotationType': [1], 'entityType': [1]}, {'annotationType': [1], 'entityType': [1]}, {'annotationType': [1], 'entityType': [1]}]}]}}\n",
            "{'conversationId': 'CCPE-7b5bd', 'utterances': {'index': [0, 1, 2, 3, 4, 5, 6, 7, 8, 9, 10, 11, 12, 13, 14, 15, 16, 17, 18, 19, 20, 21, 22, 23, 24, 25, 26, 27, 28, 29, 30, 31, 32, 33], 'speaker': [1, 0, 1, 0, 1, 0, 1, 0, 1, 0, 1, 0, 0, 1, 0, 1, 0, 1, 0, 1, 0, 1, 0, 1, 1, 0, 1, 0, 1, 0, 1, 0, 1, 0], 'text': ['Hello. What kind of movies do you like?', 'Hello. I like horror movies.', 'can you give two reasons why you like horror movies', \"I like to feel that inside of you that scares you to death, but you still want to continue watching the movie. I like when I feel goosies all over my arms, you know? That's the reason why I like it.\", 'Can you name a particular movie that you like?', 'Saw', 'What are the 2 reasons you like Saw?', \"Because it was sad, it was a horror movie and it was like playing a game, you want to play a game with me and they will catch people and put them in a home let's say in a house and they will lock them and they need to find the way to leave. But in order to leave a place they will have to end up dead.\", 'Can you name a movie that you do not like?', 'But I do like all the movies.', \"Surely, there must be one movie you can't stand or thought was poorly done\", 'Let me think.', \"Well, I don't know. Emily Rose, maybe. Emily Rose.\", 'What are the 2 things that you dislike about this movie?', \"It was fake. You could tell that it was poorly made, and I didn't get scared at all.\", 'Do you like the movie Aliens?', 'I have not watched that movie.', 'What about Hunger Games?', 'I have not watched that movie, either.', 'How about the Matrix?', 'I did watch it.', 'How did you feel about it?', 'kind of cool, but not my cup of tea.', 'What 2 things were kinda cool about it?', 'Do you like the movie Dunkirk?', 'I have not watched that movie.', 'How about Wonder Woman?', 'Oh yeah. I watched that movie.', 'How did you feel about it?', \"I loved it because it was a woman, the powerful one in the movie, finally. And it's always just the guy doing everything, you know what I'm saying?\", 'One last question.... what 2 other things do you like about the movie in particular?', 'She was very beautiful, her hair was amazing.', 'anything about the plot that you like?', 'The way she will fight it was interesting.'], 'segments': [{'startIndex': [0], 'endIndex': [0], 'text': [''], 'annotations': [{'annotationType': [], 'entityType': []}]}, {'startIndex': [14, 7], 'endIndex': [20, 27], 'text': ['horror', 'I like horror movies'], 'annotations': [{'annotationType': [0], 'entityType': [0]}, {'annotationType': [1], 'entityType': [0]}]}, {'startIndex': [0], 'endIndex': [0], 'text': [''], 'annotations': [{'annotationType': [], 'entityType': []}]}, {'startIndex': [0, 64, 111], 'endIndex': [58, 109, 154], 'text': ['I like to feel that inside of you that scares you to death', 'you still want to continue watching the movie', 'I like when I feel goosies all over my arms'], 'annotations': [{'annotationType': [1], 'entityType': [0]}, {'annotationType': [1], 'entityType': [0]}, {'annotationType': [1], 'entityType': [0]}]}, {'startIndex': [0], 'endIndex': [0], 'text': [''], 'annotations': [{'annotationType': [], 'entityType': []}]}, {'startIndex': [0], 'endIndex': [3], 'text': ['Saw'], 'annotations': [{'annotationType': [0, 1], 'entityType': [1, 1]}]}, {'startIndex': [0], 'endIndex': [0], 'text': [''], 'annotations': [{'annotationType': [], 'entityType': []}]}, {'startIndex': [46, 20], 'endIndex': [300, 41], 'text': [\"it was like playing a game, you want to play a game with me and they will catch people and put them in a home let's say in a house and they will lock them and they need to find the way to leave. But in order to leave a place they will have to end up dead\", 'it was a horror movie'], 'annotations': [{'annotationType': [2], 'entityType': [1]}, {'annotationType': [1], 'entityType': [1]}]}, {'startIndex': [0], 'endIndex': [0], 'text': [''], 'annotations': [{'annotationType': [], 'entityType': []}]}, {'startIndex': [0], 'endIndex': [0], 'text': [''], 'annotations': [{'annotationType': [], 'entityType': []}]}, {'startIndex': [0], 'endIndex': [0], 'text': [''], 'annotations': [{'annotationType': [], 'entityType': []}]}, {'startIndex': [0], 'endIndex': [0], 'text': [''], 'annotations': [{'annotationType': [], 'entityType': []}]}, {'startIndex': [20, 20], 'endIndex': [30, 37], 'text': ['Emily Rose', 'Emily Rose, maybe'], 'annotations': [{'annotationType': [0], 'entityType': [1]}, {'annotationType': [1], 'entityType': [1]}]}, {'startIndex': [0], 'endIndex': [0], 'text': [''], 'annotations': [{'annotationType': [], 'entityType': []}]}, {'startIndex': [0, 33, 57], 'endIndex': [11, 51, 83], 'text': ['It was fake', 'it was poorly made', \"I didn't get scared at all\"], 'annotations': [{'annotationType': [1], 'entityType': [1]}, {'annotationType': [1], 'entityType': [1]}, {'annotationType': [1], 'entityType': [1]}]}, {'startIndex': [22], 'endIndex': [28], 'text': ['Aliens'], 'annotations': [{'annotationType': [0], 'entityType': [1]}]}, {'startIndex': [0], 'endIndex': [29], 'text': ['I have not watched that movie'], 'annotations': [{'annotationType': [3], 'entityType': [1]}]}, {'startIndex': [11], 'endIndex': [23], 'text': ['Hunger Games'], 'annotations': [{'annotationType': [0], 'entityType': [1]}]}, {'startIndex': [0], 'endIndex': [29], 'text': ['I have not watched that movie'], 'annotations': [{'annotationType': [3], 'entityType': [1]}]}, {'startIndex': [10], 'endIndex': [20], 'text': ['the Matrix'], 'annotations': [{'annotationType': [0], 'entityType': [1]}]}, {'startIndex': [0], 'endIndex': [14], 'text': ['I did watch it'], 'annotations': [{'annotationType': [3], 'entityType': [1]}]}, {'startIndex': [0], 'endIndex': [0], 'text': [''], 'annotations': [{'annotationType': [], 'entityType': []}]}, {'startIndex': [0, 18], 'endIndex': [12, 35], 'text': ['kind of cool', 'not my cup of tea'], 'annotations': [{'annotationType': [1], 'entityType': [1]}, {'annotationType': [1], 'entityType': [1]}]}, {'startIndex': [0], 'endIndex': [0], 'text': [''], 'annotations': [{'annotationType': [], 'entityType': []}]}, {'startIndex': [22], 'endIndex': [29], 'text': ['Dunkirk'], 'annotations': [{'annotationType': [0], 'entityType': [1]}]}, {'startIndex': [0], 'endIndex': [29], 'text': ['I have not watched that movie'], 'annotations': [{'annotationType': [3], 'entityType': [1]}]}, {'startIndex': [10], 'endIndex': [22], 'text': ['Wonder Woman'], 'annotations': [{'annotationType': [0], 'entityType': [1]}]}, {'startIndex': [9], 'endIndex': [29], 'text': ['I watched that movie'], 'annotations': [{'annotationType': [3], 'entityType': [1]}]}, {'startIndex': [0], 'endIndex': [0], 'text': [''], 'annotations': [{'annotationType': [], 'entityType': []}]}, {'startIndex': [0, 19], 'endIndex': [10, 64], 'text': ['I loved it', 'it was a woman, the powerful one in the movie'], 'annotations': [{'annotationType': [1], 'entityType': [1]}, {'annotationType': [1], 'entityType': [1]}]}, {'startIndex': [0], 'endIndex': [0], 'text': [''], 'annotations': [{'annotationType': [], 'entityType': []}]}, {'startIndex': [0, 24], 'endIndex': [22, 44], 'text': ['She was very beautiful', 'her hair was amazing'], 'annotations': [{'annotationType': [1], 'entityType': [1]}, {'annotationType': [1], 'entityType': [1]}]}, {'startIndex': [0], 'endIndex': [0], 'text': [''], 'annotations': [{'annotationType': [], 'entityType': []}]}, {'startIndex': [0], 'endIndex': [41], 'text': ['The way she will fight it was interesting'], 'annotations': [{'annotationType': [1], 'entityType': [1]}]}]}}\n",
            "{'conversationId': 'CCPE-fc882', 'utterances': {'index': [0, 1, 2, 3, 4, 5, 6, 7, 8, 9, 10, 11, 12, 13, 14, 15, 16, 17, 18, 19, 20, 21, 22, 23, 24, 25], 'speaker': [1, 0, 1, 0, 0, 1, 0, 1, 0, 0, 1, 0, 1, 0, 1, 0, 0, 1, 0, 1, 0, 1, 0, 0, 1, 0], 'text': ['What kind of movies are you drawn to?', 'I am drawn to romances.', 'Have you seen Fifty Shade of Grey?', 'I have not.', 'I know of it very well, but I have not seen it.', 'What was a movie that you last watched that surprised you?', 'Maybe White House Down was surprising for me.', 'What made you like the movie?', \"I didn't go into it with high expectations at all. I thought it was just going to be I don't know, a lot of blowing up, pretty dumb, but was it It was I think when I watched it, it was summer day or summer night where almost nothing seemed to be on cable, and I was just looking for something to watch, and I thought, oh, okay, it stars Channing Tatum. I'll watch that. Or I'll turn to that. I probably won't be there for too long. It ended up being a ton of fun.\", \"It was like a new version of Die Hard. They had a lot of fun with the movie. And despite it being like unrealistic and they're blowing things up, it was great. It was just a really fun hour and a half.\", 'Have you seen Dawn of the Planet of the Apes?', 'No.', 'Have you seen Avatar?', 'Yeah.', 'What didnt you like about that movie?', \"You know, epics like that are a hard sell for me. It's very long. I wasn't nearly as charmed by the blue people that they were that most other people were. I don't know. It seemed to be lacking in finesse and It just seemed very over the top. It really did seem like an event movie, and maybe if I had seen it in the theater, I would have sort of fallen in love with it like other people did, but\", \"It just It was underwhelming. The direction wasn't nearly as good as I thought it was going to be and I just thought it was going to be something more exciting and more appealing that it ended up being for me.\", 'Have you seen John Wick?', 'No, but I know I know what that movie is, yeah.', 'Have you seen Halloween?', 'I mean, sure.', 'What do you like about the Halloween movies?', \"I don't like the Halloween movies. I don't like scary movies. So, when I watched that that was just like at a party with friends. And that's what they wanted to watch. I just don't enjoy scaring myself like that. So, the first Halloween the one that originally has Jamie Curtis from back in the day, that is a much better movie than the other Halloweens were. But, I still They are still not my favorite. Too scary.\", \"and outside of the first one. And apparently I ha I haven't seen up the most recent one that is sort of a direct sequel to the first one. Those That is a lot of gore, a lot of blood, a lot of trying to scare and not a lot of story line in movie.\", 'Thank you for your input, have a great day!', 'Thank you, too.'], 'segments': [{'startIndex': [0], 'endIndex': [0], 'text': [''], 'annotations': [{'annotationType': [], 'entityType': []}]}, {'startIndex': [14, 0], 'endIndex': [22, 22], 'text': ['romances', 'I am drawn to romances'], 'annotations': [{'annotationType': [0], 'entityType': [0]}, {'annotationType': [1], 'entityType': [0]}]}, {'startIndex': [14], 'endIndex': [33], 'text': ['Fifty Shade of Grey'], 'annotations': [{'annotationType': [0], 'entityType': [1]}]}, {'startIndex': [0], 'endIndex': [0], 'text': [''], 'annotations': [{'annotationType': [], 'entityType': []}]}, {'startIndex': [0], 'endIndex': [46], 'text': ['I know of it very well, but I have not seen it'], 'annotations': [{'annotationType': [3], 'entityType': [1]}]}, {'startIndex': [0], 'endIndex': [0], 'text': [''], 'annotations': [{'annotationType': [], 'entityType': []}]}, {'startIndex': [6, 6], 'endIndex': [22, 44], 'text': ['White House Down', 'White House Down was surprising for me'], 'annotations': [{'annotationType': [0], 'entityType': [1]}, {'annotationType': [3], 'entityType': [1]}]}, {'startIndex': [0], 'endIndex': [0], 'text': [''], 'annotations': [{'annotationType': [], 'entityType': []}]}, {'startIndex': [337, 0, 51, 432], 'endIndex': [351, 49, 131, 462], 'text': ['Channing Tatum', \"I didn't go into it with high expectations at all\", \"I thought it was just going to be I don't know, a lot of blowing up, pretty dumb\", 'It ended up being a ton of fun'], 'annotations': [{'annotationType': [0], 'entityType': [2]}, {'annotationType': [3], 'entityType': [1]}, {'annotationType': [3], 'entityType': [1]}, {'annotationType': [1], 'entityType': [1]}]}, {'startIndex': [29, 39, 81, 160], 'endIndex': [37, 75, 158, 200], 'text': ['Die Hard', 'They had a lot of fun with the movie', \"despite it being like unrealistic and they're blowing things up, it was great\", 'It was just a really fun hour and a half'], 'annotations': [{'annotationType': [0], 'entityType': [1]}, {'annotationType': [1], 'entityType': [1]}, {'annotationType': [1], 'entityType': [1]}, {'annotationType': [1], 'entityType': [1]}]}, {'startIndex': [14], 'endIndex': [44], 'text': ['Dawn of the Planet of the Apes'], 'annotations': [{'annotationType': [0], 'entityType': [1]}]}, {'startIndex': [0], 'endIndex': [0], 'text': [''], 'annotations': [{'annotationType': [], 'entityType': []}]}, {'startIndex': [14], 'endIndex': [20], 'text': ['Avatar'], 'annotations': [{'annotationType': [0], 'entityType': [1]}]}, {'startIndex': [0], 'endIndex': [0], 'text': [''], 'annotations': [{'annotationType': [], 'entityType': []}]}, {'startIndex': [0], 'endIndex': [0], 'text': [''], 'annotations': [{'annotationType': [], 'entityType': []}]}, {'startIndex': [10, 50, 66, 170, 209, 257], 'endIndex': [48, 64, 154, 204, 241, 281], 'text': ['epics like that are a hard sell for me', \"It's very long\", \"I wasn't nearly as charmed by the blue people that they were that most other people were\", 'It seemed to be lacking in finesse', 'It just seemed very over the top', 'seem like an event movie'], 'annotations': [{'annotationType': [1], 'entityType': [1]}, {'annotationType': [1], 'entityType': [1]}, {'annotationType': [1], 'entityType': [1]}, {'annotationType': [1], 'entityType': [1]}, {'annotationType': [1], 'entityType': [1]}, {'annotationType': [1], 'entityType': [1]}]}, {'startIndex': [8, 30, 102], 'endIndex': [28, 97, 208], 'text': ['It was underwhelming', \"The direction wasn't nearly as good as I thought it was going to be\", 'I just thought it was going to be something more exciting and more appealing that it ended up being for me'], 'annotations': [{'annotationType': [1], 'entityType': [1]}, {'annotationType': [1], 'entityType': [1]}, {'annotationType': [1], 'entityType': [1]}]}, {'startIndex': [14], 'endIndex': [23], 'text': ['John Wick'], 'annotations': [{'annotationType': [0], 'entityType': [1]}]}, {'startIndex': [15], 'endIndex': [37], 'text': ['I know what that movie'], 'annotations': [{'annotationType': [3], 'entityType': [1]}]}, {'startIndex': [14], 'endIndex': [23], 'text': ['Halloween'], 'annotations': [{'annotationType': [0], 'entityType': [1]}]}, {'startIndex': [0], 'endIndex': [0], 'text': [''], 'annotations': [{'annotationType': [], 'entityType': []}]}, {'startIndex': [23], 'endIndex': [36], 'text': ['the Halloween'], 'annotations': [{'annotationType': [0], 'entityType': [1]}]}, {'startIndex': [48, 13, 217, 333, 265, 35, 168, 0, 217, 373, 405], 'endIndex': [53, 33, 236, 353, 277, 60, 211, 33, 358, 403, 414], 'text': ['scary', 'the Halloween movies', 'the first Halloween', 'the other Halloweens', 'Jamie Curtis', \"I don't like scary movies\", \"I just don't enjoy scaring myself like that\", \"I don't like the Halloween movies\", 'the first Halloween the one that originally has Jamie Curtis from back in the day, that is a much better movie than the other Halloweens were', 'They are still not my favorite', 'Too scary'], 'annotations': [{'annotationType': [0], 'entityType': [0]}, {'annotationType': [0], 'entityType': [1]}, {'annotationType': [0], 'entityType': [1]}, {'annotationType': [0], 'entityType': [1]}, {'annotationType': [0], 'entityType': [2]}, {'annotationType': [1], 'entityType': [0]}, {'annotationType': [1], 'entityType': [0]}, {'annotationType': [1], 'entityType': [1]}, {'annotationType': [1], 'entityType': [1]}, {'annotationType': [1], 'entityType': [1]}, {'annotationType': [1], 'entityType': [1]}]}, {'startIndex': [50, 144, 167, 183, 212], 'endIndex': [136, 165, 181, 207, 235], 'text': [\"I haven't seen up the most recent one that is sort of a direct sequel to the first one\", 'That is a lot of gore', 'a lot of blood', 'a lot of trying to scare', 'not a lot of story line'], 'annotations': [{'annotationType': [3], 'entityType': [1]}, {'annotationType': [1], 'entityType': [1]}, {'annotationType': [1], 'entityType': [1]}, {'annotationType': [1], 'entityType': [1]}, {'annotationType': [1], 'entityType': [1]}]}, {'startIndex': [0], 'endIndex': [0], 'text': [''], 'annotations': [{'annotationType': [], 'entityType': []}]}, {'startIndex': [0], 'endIndex': [0], 'text': [''], 'annotations': [{'annotationType': [], 'entityType': []}]}]}}\n"
          ]
        }
      ]
    },
    {
      "cell_type": "code",
      "source": [
        "import json\n",
        "\n",
        "# Step 1: Define the function\n",
        "def convert_new_data_to_original_format(new_data_example):\n",
        "    original_data_example = {\n",
        "        \"conversationId\": new_data_example[\"conversationId\"],\n",
        "        \"utterances\": []\n",
        "    }\n",
        "\n",
        "    for utterance in new_data_example[\"utterances\"]:\n",
        "        index = utterance[\"index\"]\n",
        "        text = utterance[\"text\"]\n",
        "        speaker = utterance[\"speaker\"]\n",
        "        segments = []\n",
        "\n",
        "        for segment in utterance.get(\"segments\", []):\n",
        "            annotations = []\n",
        "            \n",
        "            for annotation in segment[\"annotations\"]:\n",
        "                annotations.append({\n",
        "                    \"annotationType\": annotation[\"annotationType\"],\n",
        "                    \"entityType\": annotation[\"entityType\"]\n",
        "                })\n",
        "\n",
        "            segments.append({\n",
        "                \"startIndex\": segment[\"startIndex\"],\n",
        "                \"endIndex\": segment[\"endIndex\"],\n",
        "                \"text\": segment[\"text\"],\n",
        "                \"annotations\": annotations\n",
        "            })\n",
        "\n",
        "        original_data_example[\"utterances\"].append({\n",
        "            \"index\": index,\n",
        "            \"speaker\": speaker,\n",
        "            \"text\": text,\n",
        "            \"segments\": segments\n",
        "        })\n",
        "\n",
        "    return original_data_example\n",
        "\n",
        "\n",
        "# Step 2: Load both datasets\n",
        "with open(\"/content/conversational-movies/data/MovieSent.json\", \"r\") as f:\n",
        "    existing_data = json.load(f)\n",
        "\n",
        "with open(\"/content/coached_conv_pref/data.json\", \"r\") as f:\n",
        "    new_data = json.load(f)\n",
        "\n",
        "# Step 3: Iterate through the new dataset, convert, and merge\n",
        "for new_data_example in new_data:\n",
        "    converted_example = convert_new_data_to_original_format(new_data_example)\n",
        "    existing_data.append(converted_example)\n",
        "\n",
        "# Step 4: Save the merged dataset\n",
        "with open(\"merged_dataset.json\", \"w\") as f:\n",
        "    json.dump(existing_data, f)\n"
      ],
      "metadata": {
        "id": "zrwxn30GfTH0"
      },
      "execution_count": null,
      "outputs": []
    },
    {
      "cell_type": "code",
      "source": [
        "!python /content/conversational-movies/indexing.py"
      ],
      "metadata": {
        "colab": {
          "base_uri": "https://localhost:8080/"
        },
        "id": "8yz2RtCAl09p",
        "outputId": "06a805fd-c3f1-43ba-858e-305e8a78528f"
      },
      "execution_count": null,
      "outputs": [
        {
          "output_type": "stream",
          "name": "stdout",
          "text": [
            "adding reviews into index: 100% 715766/715766 [06:26<00:00, 1853.16it/s]\n"
          ]
        }
      ]
    },
    {
      "cell_type": "code",
      "source": [
        "!python /content/conversational-movies/dataset.py"
      ],
      "metadata": {
        "id": "JD7Q96Xfl31A"
      },
      "execution_count": null,
      "outputs": []
    },
    {
      "cell_type": "code",
      "source": [
        "!python /content/conversational-movies/model.py"
      ],
      "metadata": {
        "id": "3_8xomeGl718"
      },
      "execution_count": null,
      "outputs": []
    },
    {
      "cell_type": "code",
      "source": [
        "!python /content/conversational-movies/main.py"
      ],
      "metadata": {
        "id": "gjWhkFwxl8Wt",
        "colab": {
          "base_uri": "https://localhost:8080/"
        },
        "outputId": "91d19f82-ff21-456d-abfb-22c6f307ee8e"
      },
      "execution_count": null,
      "outputs": [
        {
          "output_type": "stream",
          "name": "stdout",
          "text": [
            "INFO: 19:59:18 - Load pretrained SentenceTransformer: all-mpnet-base-v2\n",
            "INFO: 19:59:21 - Use pytorch device: cpu\n",
            "INFO: 19:59:24 - Indexing reviews\n",
            "adding reviews into index: 100% 715766/715766 [06:13<00:00, 1915.55it/s]\n",
            "INFO: 20:05:38 - Committing reviews. This will take a while\n",
            "INFO: 20:17:14 - Fitting sentiment estimator\n",
            "INFO: 20:18:39 - Estimator fitted\n",
            "INFO: 20:18:39 - sentiment estimator results:\n",
            "INFO: 20:18:39 - RMSE: 0.8013\n",
            "INFO: 20:18:39 -  MAE: 0.6258\n",
            "INFO: 20:18:39 -  R^2: 0.7220\n",
            "INFO: 20:22:43 - training knn\n",
            "INFO: 20:22:54 - RMSE for CF: 1.2076\n",
            "INFO: 20:22:54 -  MAE for CF: 0.9420\n",
            "INFO: 20:22:54 - getting user embedding\n",
            "INFO: 20:29:32 - getting critic embedding\n",
            "critics_emb: 100% 236/236 [1:39:10<00:00, 25.22s/it]\n",
            "metadata features:  68% 160/236 [06:15<01:40,  1.33s/it]WARNING: 22:15:00 - no people for star_wars_episode_vii_the_force_awakens\n",
            "metadata features: 100% 236/236 [09:16<00:00,  2.36s/it]\n",
            "INFO: 22:18:01 - test_neg_mean_squared_error: 1.2320 ± 0.2474\n",
            "INFO: 22:18:01 - test_neg_mean_absolute_error: 0.8506 ± 0.0873\n",
            "INFO: 22:18:01 - RMSE: 1.0229\n",
            "INFO: 22:18:01 -  MAE: 0.7833\n"
          ]
        }
      ]
    }
  ]
}